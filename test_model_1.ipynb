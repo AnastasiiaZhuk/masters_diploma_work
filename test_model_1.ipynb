{
 "metadata": {
  "kernelspec": {
   "language": "python",
   "display_name": "Python 3",
   "name": "python3"
  },
  "language_info": {
   "name": "python",
   "version": "3.8.17",
   "mimetype": "text/x-python",
   "codemirror_mode": {
    "name": "ipython",
    "version": 3
   },
   "pygments_lexer": "ipython3",
   "nbconvert_exporter": "python",
   "file_extension": ".py"
  }
 },
 "nbformat_minor": 4,
 "nbformat": 4,
 "cells": [
  {
   "cell_type": "code",
   "source": [],
   "metadata": {
    "_uuid": "8f2839f25d086af736a60e9eeb907d3b93b6e0e5",
    "_cell_guid": "b1076dfc-b9ad-4769-8c92-a6c4dae69d19",
    "trusted": true
   },
   "execution_count": null,
   "outputs": []
  },
  {
   "cell_type": "code",
   "source": [
    "!pip install -q efficientnet"
   ],
   "metadata": {
    "execution": {
     "iopub.status.busy": "2023-10-22T16:31:38.374362Z",
     "iopub.execute_input": "2023-10-22T16:31:38.375130Z",
     "iopub.status.idle": "2023-10-22T16:31:46.252550Z",
     "shell.execute_reply.started": "2023-10-22T16:31:38.375097Z",
     "shell.execute_reply": "2023-10-22T16:31:46.251460Z"
    },
    "trusted": true
   },
   "execution_count": 1,
   "outputs": [
    {
     "name": "stdout",
     "text": "\u001B[33mWARNING: Running pip as the 'root' user can result in broken permissions and conflicting behaviour with the system package manager. It is recommended to use a virtual environment instead: https://pip.pypa.io/warnings/venv\u001B[0m\u001B[33m\n\u001B[0m\n\u001B[1m[\u001B[0m\u001B[34;49mnotice\u001B[0m\u001B[1;39;49m]\u001B[0m\u001B[39;49m A new release of pip is available: \u001B[0m\u001B[31;49m23.0.1\u001B[0m\u001B[39;49m -> \u001B[0m\u001B[32;49m23.3.1\u001B[0m\n\u001B[1m[\u001B[0m\u001B[34;49mnotice\u001B[0m\u001B[1;39;49m]\u001B[0m\u001B[39;49m To update, run: \u001B[0m\u001B[32;49mpip install --upgrade pip\u001B[0m\n",
     "output_type": "stream"
    }
   ]
  },
  {
   "cell_type": "code",
   "source": [
    "import math, re, os\n",
    "\n",
    "import numpy as np\n",
    "import pandas as pd\n",
    "from matplotlib import pyplot as plt\n",
    "from kaggle_datasets import KaggleDatasets\n",
    "import tensorflow as tf\n",
    "import efficientnet.tfkeras as efn\n",
    "import tensorflow.keras.layers as L\n",
    "from tensorflow.keras.applications.resnet50 import ResNet50\n",
    "\n",
    "from sklearn import metrics\n",
    "from sklearn.model_selection import train_test_split\n",
    "import cv2\n",
    "import matplotlib\n",
    "import matplotlib.pyplot as plt\n",
    "%matplotlib inline"
   ],
   "metadata": {
    "execution": {
     "iopub.status.busy": "2023-10-22T16:31:46.254390Z",
     "iopub.execute_input": "2023-10-22T16:31:46.254682Z",
     "iopub.status.idle": "2023-10-22T16:32:28.719748Z",
     "shell.execute_reply.started": "2023-10-22T16:31:46.254654Z",
     "shell.execute_reply": "2023-10-22T16:32:28.718913Z"
    },
    "trusted": true
   },
   "execution_count": 2,
   "outputs": [
    {
     "name": "stderr",
     "text": "D1022 16:32:19.555315896      15 config.cc:119]                        gRPC EXPERIMENT tcp_frame_size_tuning               OFF (default:OFF)\nD1022 16:32:19.555342489      15 config.cc:119]                        gRPC EXPERIMENT tcp_rcv_lowat                       OFF (default:OFF)\nD1022 16:32:19.555346240      15 config.cc:119]                        gRPC EXPERIMENT peer_state_based_framing            OFF (default:OFF)\nD1022 16:32:19.555348916      15 config.cc:119]                        gRPC EXPERIMENT flow_control_fixes                  ON  (default:ON)\nD1022 16:32:19.555351187      15 config.cc:119]                        gRPC EXPERIMENT memory_pressure_controller          OFF (default:OFF)\nD1022 16:32:19.555353794      15 config.cc:119]                        gRPC EXPERIMENT unconstrained_max_quota_buffer_size OFF (default:OFF)\nD1022 16:32:19.555356378      15 config.cc:119]                        gRPC EXPERIMENT new_hpack_huffman_decoder           ON  (default:ON)\nD1022 16:32:19.555358982      15 config.cc:119]                        gRPC EXPERIMENT event_engine_client                 OFF (default:OFF)\nD1022 16:32:19.555361547      15 config.cc:119]                        gRPC EXPERIMENT monitoring_experiment               ON  (default:ON)\nD1022 16:32:19.555364048      15 config.cc:119]                        gRPC EXPERIMENT promise_based_client_call           OFF (default:OFF)\nD1022 16:32:19.555366288      15 config.cc:119]                        gRPC EXPERIMENT free_large_allocator                OFF (default:OFF)\nD1022 16:32:19.555368796      15 config.cc:119]                        gRPC EXPERIMENT promise_based_server_call           OFF (default:OFF)\nD1022 16:32:19.555371279      15 config.cc:119]                        gRPC EXPERIMENT transport_supplies_client_latency   OFF (default:OFF)\nD1022 16:32:19.555373626      15 config.cc:119]                        gRPC EXPERIMENT event_engine_listener               OFF (default:OFF)\nI1022 16:32:19.555583737      15 ev_epoll1_linux.cc:122]               grpc epoll fd: 62\nD1022 16:32:19.571807846      15 ev_posix.cc:144]                      Using polling engine: epoll1\nD1022 16:32:19.571834068      15 dns_resolver_ares.cc:822]             Using ares dns resolver\nD1022 16:32:19.584228134      15 lb_policy_registry.cc:46]             registering LB policy factory for \"priority_experimental\"\nD1022 16:32:19.584242138      15 lb_policy_registry.cc:46]             registering LB policy factory for \"outlier_detection_experimental\"\nD1022 16:32:19.584246010      15 lb_policy_registry.cc:46]             registering LB policy factory for \"weighted_target_experimental\"\nD1022 16:32:19.584249201      15 lb_policy_registry.cc:46]             registering LB policy factory for \"pick_first\"\nD1022 16:32:19.584252683      15 lb_policy_registry.cc:46]             registering LB policy factory for \"round_robin\"\nD1022 16:32:19.584255808      15 lb_policy_registry.cc:46]             registering LB policy factory for \"weighted_round_robin_experimental\"\nD1022 16:32:19.584263441      15 lb_policy_registry.cc:46]             registering LB policy factory for \"ring_hash_experimental\"\nD1022 16:32:19.584284246      15 lb_policy_registry.cc:46]             registering LB policy factory for \"grpclb\"\nD1022 16:32:19.584314396      15 lb_policy_registry.cc:46]             registering LB policy factory for \"rls_experimental\"\nD1022 16:32:19.584330283      15 lb_policy_registry.cc:46]             registering LB policy factory for \"xds_cluster_manager_experimental\"\nD1022 16:32:19.584333633      15 lb_policy_registry.cc:46]             registering LB policy factory for \"xds_cluster_impl_experimental\"\nD1022 16:32:19.584336594      15 lb_policy_registry.cc:46]             registering LB policy factory for \"cds_experimental\"\nD1022 16:32:19.584344100      15 lb_policy_registry.cc:46]             registering LB policy factory for \"xds_cluster_resolver_experimental\"\nD1022 16:32:19.584347249      15 lb_policy_registry.cc:46]             registering LB policy factory for \"xds_override_host_experimental\"\nD1022 16:32:19.584350338      15 lb_policy_registry.cc:46]             registering LB policy factory for \"xds_wrr_locality_experimental\"\nD1022 16:32:19.584354697      15 certificate_provider_registry.cc:35]  registering certificate provider factory for \"file_watcher\"\nI1022 16:32:19.588007792      15 socket_utils_common_posix.cc:408]     Disabling AF_INET6 sockets because ::1 is not available.\nI1022 16:32:19.601673795      15 socket_utils_common_posix.cc:337]     TCP_USER_TIMEOUT is available. TCP_USER_TIMEOUT will be used thereafter\nE1022 16:32:19.608770190      15 oauth2_credentials.cc:236]            oauth_fetch: UNKNOWN:C-ares status is not ARES_SUCCESS qtype=A name=metadata.google.internal. is_balancer=0: Domain name not found {grpc_status:2, created_time:\"2023-10-22T16:32:19.608750094+00:00\"}\n",
     "output_type": "stream"
    }
   ]
  },
  {
   "cell_type": "code",
   "source": [
    "# Detect hardware, return appropriate distribution strategy\n",
    "try:\n",
    "    # TPU detection. No parameters necessary if TPU_NAME environment variable is\n",
    "    # set: this is always the case on Kaggle.\n",
    "    tpu = tf.distribute.cluster_resolver.TPUClusterResolver()\n",
    "    print('Running on TPU ', tpu.master())\n",
    "except ValueError:\n",
    "    tpu = None\n",
    "\n",
    "if tpu:\n",
    "    tf.config.experimental_connect_to_cluster(tpu)\n",
    "    tf.tpu.experimental.initialize_tpu_system(tpu)\n",
    "    strategy = tf.distribute.experimental.TPUStrategy(tpu)\n",
    "else:\n",
    "    # Default distribution strategy in Tensorflow. Works on CPU and single GPU.\n",
    "    strategy = tf.distribute.get_strategy()\n",
    "\n",
    "print(\"REPLICAS: \", strategy.num_replicas_in_sync)"
   ],
   "metadata": {
    "execution": {
     "iopub.status.busy": "2023-10-22T16:32:32.016067Z",
     "iopub.execute_input": "2023-10-22T16:32:32.017181Z",
     "iopub.status.idle": "2023-10-22T16:32:40.359286Z",
     "shell.execute_reply.started": "2023-10-22T16:32:32.017145Z",
     "shell.execute_reply": "2023-10-22T16:32:40.355509Z"
    },
    "trusted": true
   },
   "execution_count": 3,
   "outputs": [
    {
     "name": "stdout",
     "text": "Running on TPU  \nINFO:tensorflow:Deallocate tpu buffers before initializing tpu system.\nINFO:tensorflow:Initializing the TPU system: local\nINFO:tensorflow:Finished initializing TPU system.\n",
     "output_type": "stream"
    },
    {
     "name": "stderr",
     "text": "WARNING:absl:`tf.distribute.experimental.TPUStrategy` is deprecated, please use  the non experimental symbol `tf.distribute.TPUStrategy` instead.\n",
     "output_type": "stream"
    },
    {
     "name": "stdout",
     "text": "INFO:tensorflow:Found TPU system:\n",
     "output_type": "stream"
    },
    {
     "name": "stderr",
     "text": "INFO:tensorflow:Found TPU system:\n",
     "output_type": "stream"
    },
    {
     "name": "stdout",
     "text": "INFO:tensorflow:*** Num TPU Cores: 8\n",
     "output_type": "stream"
    },
    {
     "name": "stderr",
     "text": "INFO:tensorflow:*** Num TPU Cores: 8\n",
     "output_type": "stream"
    },
    {
     "name": "stdout",
     "text": "INFO:tensorflow:*** Num TPU Workers: 1\n",
     "output_type": "stream"
    },
    {
     "name": "stderr",
     "text": "INFO:tensorflow:*** Num TPU Workers: 1\n",
     "output_type": "stream"
    },
    {
     "name": "stdout",
     "text": "INFO:tensorflow:*** Num TPU Cores Per Worker: 8\n",
     "output_type": "stream"
    },
    {
     "name": "stderr",
     "text": "INFO:tensorflow:*** Num TPU Cores Per Worker: 8\n",
     "output_type": "stream"
    },
    {
     "name": "stdout",
     "text": "INFO:tensorflow:*** Available Device: _DeviceAttributes(/job:localhost/replica:0/task:0/device:CPU:0, CPU, 0, 0)\n",
     "output_type": "stream"
    },
    {
     "name": "stderr",
     "text": "INFO:tensorflow:*** Available Device: _DeviceAttributes(/job:localhost/replica:0/task:0/device:CPU:0, CPU, 0, 0)\n",
     "output_type": "stream"
    },
    {
     "name": "stdout",
     "text": "INFO:tensorflow:*** Available Device: _DeviceAttributes(/job:localhost/replica:0/task:0/device:TPU:0, TPU, 0, 0)\n",
     "output_type": "stream"
    },
    {
     "name": "stderr",
     "text": "INFO:tensorflow:*** Available Device: _DeviceAttributes(/job:localhost/replica:0/task:0/device:TPU:0, TPU, 0, 0)\n",
     "output_type": "stream"
    },
    {
     "name": "stdout",
     "text": "INFO:tensorflow:*** Available Device: _DeviceAttributes(/job:localhost/replica:0/task:0/device:TPU:1, TPU, 0, 0)\n",
     "output_type": "stream"
    },
    {
     "name": "stderr",
     "text": "INFO:tensorflow:*** Available Device: _DeviceAttributes(/job:localhost/replica:0/task:0/device:TPU:1, TPU, 0, 0)\n",
     "output_type": "stream"
    },
    {
     "name": "stdout",
     "text": "INFO:tensorflow:*** Available Device: _DeviceAttributes(/job:localhost/replica:0/task:0/device:TPU:2, TPU, 0, 0)\n",
     "output_type": "stream"
    },
    {
     "name": "stderr",
     "text": "INFO:tensorflow:*** Available Device: _DeviceAttributes(/job:localhost/replica:0/task:0/device:TPU:2, TPU, 0, 0)\n",
     "output_type": "stream"
    },
    {
     "name": "stdout",
     "text": "INFO:tensorflow:*** Available Device: _DeviceAttributes(/job:localhost/replica:0/task:0/device:TPU:3, TPU, 0, 0)\n",
     "output_type": "stream"
    },
    {
     "name": "stderr",
     "text": "INFO:tensorflow:*** Available Device: _DeviceAttributes(/job:localhost/replica:0/task:0/device:TPU:3, TPU, 0, 0)\n",
     "output_type": "stream"
    },
    {
     "name": "stdout",
     "text": "INFO:tensorflow:*** Available Device: _DeviceAttributes(/job:localhost/replica:0/task:0/device:TPU:4, TPU, 0, 0)\n",
     "output_type": "stream"
    },
    {
     "name": "stderr",
     "text": "INFO:tensorflow:*** Available Device: _DeviceAttributes(/job:localhost/replica:0/task:0/device:TPU:4, TPU, 0, 0)\n",
     "output_type": "stream"
    },
    {
     "name": "stdout",
     "text": "INFO:tensorflow:*** Available Device: _DeviceAttributes(/job:localhost/replica:0/task:0/device:TPU:5, TPU, 0, 0)\n",
     "output_type": "stream"
    },
    {
     "name": "stderr",
     "text": "INFO:tensorflow:*** Available Device: _DeviceAttributes(/job:localhost/replica:0/task:0/device:TPU:5, TPU, 0, 0)\n",
     "output_type": "stream"
    },
    {
     "name": "stdout",
     "text": "INFO:tensorflow:*** Available Device: _DeviceAttributes(/job:localhost/replica:0/task:0/device:TPU:6, TPU, 0, 0)\n",
     "output_type": "stream"
    },
    {
     "name": "stderr",
     "text": "INFO:tensorflow:*** Available Device: _DeviceAttributes(/job:localhost/replica:0/task:0/device:TPU:6, TPU, 0, 0)\n",
     "output_type": "stream"
    },
    {
     "name": "stdout",
     "text": "INFO:tensorflow:*** Available Device: _DeviceAttributes(/job:localhost/replica:0/task:0/device:TPU:7, TPU, 0, 0)\n",
     "output_type": "stream"
    },
    {
     "name": "stderr",
     "text": "INFO:tensorflow:*** Available Device: _DeviceAttributes(/job:localhost/replica:0/task:0/device:TPU:7, TPU, 0, 0)\n",
     "output_type": "stream"
    },
    {
     "name": "stdout",
     "text": "INFO:tensorflow:*** Available Device: _DeviceAttributes(/job:localhost/replica:0/task:0/device:TPU_SYSTEM:0, TPU_SYSTEM, 0, 0)\n",
     "output_type": "stream"
    },
    {
     "name": "stderr",
     "text": "INFO:tensorflow:*** Available Device: _DeviceAttributes(/job:localhost/replica:0/task:0/device:TPU_SYSTEM:0, TPU_SYSTEM, 0, 0)\n",
     "output_type": "stream"
    },
    {
     "name": "stdout",
     "text": "REPLICAS:  8\n",
     "output_type": "stream"
    }
   ]
  },
  {
   "cell_type": "code",
   "source": [
    "AUTO = tf.data.experimental.AUTOTUNE\n",
    "\n",
    "# Data access\n",
    "GCS_DS_PATH = KaggleDatasets().get_gcs_path()\n",
    "\n",
    "# Configuration\n",
    "EPOCHS = 10\n",
    "BATCH_SIZE = 16 * strategy.num_replicas_in_sync"
   ],
   "metadata": {
    "execution": {
     "iopub.status.busy": "2023-10-22T16:32:40.361200Z",
     "iopub.execute_input": "2023-10-22T16:32:40.361508Z",
     "iopub.status.idle": "2023-10-22T16:32:40.367590Z",
     "shell.execute_reply.started": "2023-10-22T16:32:40.361480Z",
     "shell.execute_reply": "2023-10-22T16:32:40.366586Z"
    },
    "trusted": true
   },
   "execution_count": 4,
   "outputs": [
    {
     "name": "stderr",
     "text": "get_gcs_path is not required on TPU VMs which can directly use Kaggle datasets, using path: /kaggle/input/alaska2-image-steganalysis\n",
     "output_type": "stream"
    }
   ]
  },
  {
   "cell_type": "code",
   "source": [
    "def append_path(pre):\n",
    "    return np.vectorize(lambda file: os.path.join(GCS_DS_PATH, pre, file))"
   ],
   "metadata": {
    "execution": {
     "iopub.status.busy": "2023-10-22T16:32:40.461358Z",
     "iopub.execute_input": "2023-10-22T16:32:40.462429Z",
     "iopub.status.idle": "2023-10-22T16:32:40.467406Z",
     "shell.execute_reply.started": "2023-10-22T16:32:40.462392Z",
     "shell.execute_reply": "2023-10-22T16:32:40.466059Z"
    },
    "trusted": true
   },
   "execution_count": 5,
   "outputs": []
  },
  {
   "cell_type": "code",
   "source": [
    "sub = pd.read_csv('/kaggle/input/alaska2-image-steganalysis/sample_submission.csv')\n",
    "train_filenames = np.array(os.listdir(\"/kaggle/input/alaska2-image-steganalysis/Cover/\"))"
   ],
   "metadata": {
    "execution": {
     "iopub.status.busy": "2023-10-22T16:32:45.557903Z",
     "iopub.execute_input": "2023-10-22T16:32:45.558335Z",
     "iopub.status.idle": "2023-10-22T16:32:48.781666Z",
     "shell.execute_reply.started": "2023-10-22T16:32:45.558305Z",
     "shell.execute_reply": "2023-10-22T16:32:48.780441Z"
    },
    "trusted": true
   },
   "execution_count": 6,
   "outputs": []
  },
  {
   "cell_type": "code",
   "source": [
    "np.random.seed(0)\n",
    "positives = train_filenames.copy()\n",
    "negatives = train_filenames.copy()\n",
    "np.random.shuffle(positives)\n",
    "np.random.shuffle(negatives)\n",
    "parti = 3000\n",
    "jmipod = append_path('JMiPOD')(positives[:parti])\n",
    "juniward = append_path('JUNIWARD')(positives[parti:parti*2])\n",
    "uerd = append_path('UERD')(positives[parti*2:parti*3])\n",
    "\n",
    "pos_paths = np.concatenate([jmipod, juniward, uerd])"
   ],
   "metadata": {
    "execution": {
     "iopub.status.busy": "2023-10-22T16:32:48.783515Z",
     "iopub.execute_input": "2023-10-22T16:32:48.783844Z",
     "iopub.status.idle": "2023-10-22T16:32:48.822901Z",
     "shell.execute_reply.started": "2023-10-22T16:32:48.783817Z",
     "shell.execute_reply": "2023-10-22T16:32:48.821890Z"
    },
    "trusted": true
   },
   "execution_count": 7,
   "outputs": []
  },
  {
   "cell_type": "code",
   "source": [
    "test_paths = append_path('Test')(sub.Id.values)\n",
    "neg_paths = append_path('Cover')(negatives[:parti*3])"
   ],
   "metadata": {
    "execution": {
     "iopub.status.busy": "2023-10-22T16:32:48.823987Z",
     "iopub.execute_input": "2023-10-22T16:32:48.824255Z",
     "iopub.status.idle": "2023-10-22T16:32:48.874869Z",
     "shell.execute_reply.started": "2023-10-22T16:32:48.824231Z",
     "shell.execute_reply": "2023-10-22T16:32:48.874046Z"
    },
    "trusted": true
   },
   "execution_count": 8,
   "outputs": []
  },
  {
   "cell_type": "code",
   "source": [
    "train_paths = np.concatenate([pos_paths, neg_paths])\n",
    "train_labels = np.array([1] * len(pos_paths) + [0] * len(neg_paths))"
   ],
   "metadata": {
    "execution": {
     "iopub.status.busy": "2023-10-22T16:32:51.581401Z",
     "iopub.execute_input": "2023-10-22T16:32:51.581857Z",
     "iopub.status.idle": "2023-10-22T16:32:51.592104Z",
     "shell.execute_reply.started": "2023-10-22T16:32:51.581824Z",
     "shell.execute_reply": "2023-10-22T16:32:51.591073Z"
    },
    "trusted": true
   },
   "execution_count": 9,
   "outputs": []
  },
  {
   "cell_type": "code",
   "source": [
    "train_paths, valid_paths, train_labels, valid_labels = train_test_split(\n",
    "    train_paths, train_labels, test_size=0.1, random_state=2020)"
   ],
   "metadata": {
    "execution": {
     "iopub.status.busy": "2023-10-22T16:32:51.785039Z",
     "iopub.execute_input": "2023-10-22T16:32:51.785324Z",
     "iopub.status.idle": "2023-10-22T16:32:51.794818Z",
     "shell.execute_reply.started": "2023-10-22T16:32:51.785299Z",
     "shell.execute_reply": "2023-10-22T16:32:51.793899Z"
    },
    "trusted": true
   },
   "execution_count": 10,
   "outputs": []
  },
  {
   "cell_type": "code",
   "source": [
    "print(len(train_paths))"
   ],
   "metadata": {
    "execution": {
     "iopub.status.busy": "2023-10-22T16:33:12.238184Z",
     "iopub.execute_input": "2023-10-22T16:33:12.238585Z",
     "iopub.status.idle": "2023-10-22T16:33:12.243877Z",
     "shell.execute_reply.started": "2023-10-22T16:33:12.238555Z",
     "shell.execute_reply": "2023-10-22T16:33:12.242825Z"
    },
    "trusted": true
   },
   "execution_count": 14,
   "outputs": [
    {
     "name": "stdout",
     "text": "16200\n",
     "output_type": "stream"
    }
   ]
  },
  {
   "cell_type": "code",
   "source": [
    "def decode_image(filename, label=None, image_size=(512, 512)):\n",
    "    bits = tf.io.read_file(filename)\n",
    "    image = tf.image.decode_jpeg(bits, channels=3)\n",
    "    image = tf.cast(image, tf.float32) / 255.0\n",
    "    image = tf.image.resize(image, image_size)\n",
    "    \n",
    "    if label is None:\n",
    "        return image\n",
    "    else:\n",
    "        return image, label\n",
    "\n",
    "def data_augment(image, label=None):\n",
    "    image = tf.image.random_flip_left_right(image)\n",
    "    image = tf.image.random_flip_up_down(image)\n",
    "    \n",
    "    if label is None:\n",
    "        return image\n",
    "    else:\n",
    "        return image, label"
   ],
   "metadata": {
    "execution": {
     "iopub.status.busy": "2023-10-22T16:32:51.949296Z",
     "iopub.execute_input": "2023-10-22T16:32:51.949586Z",
     "iopub.status.idle": "2023-10-22T16:32:51.955914Z",
     "shell.execute_reply.started": "2023-10-22T16:32:51.949561Z",
     "shell.execute_reply": "2023-10-22T16:32:51.955048Z"
    },
    "trusted": true
   },
   "execution_count": 11,
   "outputs": []
  },
  {
   "cell_type": "code",
   "source": [
    "train_dataset = (\n",
    "    tf.data.Dataset\n",
    "    .from_tensor_slices((train_paths, train_labels))\n",
    "    .map(decode_image, num_parallel_calls=AUTO)\n",
    "    .cache()\n",
    "    .repeat()\n",
    "    .shuffle(1024)\n",
    "    .batch(BATCH_SIZE)\n",
    "    .prefetch(AUTO)\n",
    ")\n",
    "\n",
    "valid_dataset = (\n",
    "    tf.data.Dataset\n",
    "    .from_tensor_slices((valid_paths, valid_labels))\n",
    "    .map(decode_image, num_parallel_calls=AUTO)\n",
    "    .batch(BATCH_SIZE)\n",
    "    .cache()\n",
    "    .prefetch(AUTO)\n",
    ")\n",
    "\n",
    "test_dataset = (\n",
    "    tf.data.Dataset\n",
    "    .from_tensor_slices(test_paths)\n",
    "    .map(decode_image, num_parallel_calls=AUTO)\n",
    "    .batch(BATCH_SIZE)\n",
    ")"
   ],
   "metadata": {
    "execution": {
     "iopub.status.busy": "2023-10-22T16:32:54.101546Z",
     "iopub.execute_input": "2023-10-22T16:32:54.101970Z",
     "iopub.status.idle": "2023-10-22T16:32:54.238972Z",
     "shell.execute_reply.started": "2023-10-22T16:32:54.101939Z",
     "shell.execute_reply": "2023-10-22T16:32:54.237964Z"
    },
    "trusted": true
   },
   "execution_count": 12,
   "outputs": []
  },
  {
   "cell_type": "code",
   "source": [
    "early = tf.keras.callbacks.EarlyStopping(monitor='loss', patience=2)"
   ],
   "metadata": {
    "execution": {
     "iopub.status.busy": "2023-10-22T16:32:54.438052Z",
     "iopub.execute_input": "2023-10-22T16:32:54.438423Z",
     "iopub.status.idle": "2023-10-22T16:32:54.443607Z",
     "shell.execute_reply.started": "2023-10-22T16:32:54.438394Z",
     "shell.execute_reply": "2023-10-22T16:32:54.442635Z"
    },
    "trusted": true
   },
   "execution_count": 13,
   "outputs": []
  },
  {
   "cell_type": "code",
   "source": [
    "scheduler = tf.keras.callbacks.ReduceLROnPlateau(\n",
    "    monitor='val_loss',\n",
    "    factor=0.1,\n",
    "    patience=2,\n",
    "    verbose=1,\n",
    "    mode='auto',\n",
    "    min_delta=0.0001,\n",
    "    min_lr=0.0000001\n",
    ")"
   ],
   "metadata": {
    "execution": {
     "iopub.status.busy": "2023-10-22T16:33:18.711964Z",
     "iopub.execute_input": "2023-10-22T16:33:18.712407Z",
     "iopub.status.idle": "2023-10-22T16:33:18.718204Z",
     "shell.execute_reply.started": "2023-10-22T16:33:18.712375Z",
     "shell.execute_reply": "2023-10-22T16:33:18.716757Z"
    },
    "trusted": true
   },
   "execution_count": 15,
   "outputs": []
  },
  {
   "cell_type": "code",
   "source": [
    "# def select_model(name):\n",
    "#     if name == 'EfficientNet3' :\n",
    "#             base_model = efn.EfficientNetB3(input_shape=(512, 512, 3),\n",
    "#                                             weights='imagenet',\n",
    "#                                             include_top = False,\n",
    "#                                            )    \n",
    "#     elif name == 'ResNet' :\n",
    "#             base_model = ResNet50(weights = 'imagenet',include_top=False,input_shape=(512, 512, 3))\n",
    "#     return base_model"
   ],
   "metadata": {
    "execution": {
     "iopub.status.busy": "2023-10-22T16:33:18.913350Z",
     "iopub.execute_input": "2023-10-22T16:33:18.913690Z",
     "iopub.status.idle": "2023-10-22T16:33:18.918151Z",
     "shell.execute_reply.started": "2023-10-22T16:33:18.913664Z",
     "shell.execute_reply": "2023-10-22T16:33:18.917211Z"
    },
    "trusted": true
   },
   "execution_count": 16,
   "outputs": []
  },
  {
   "cell_type": "code",
   "source": [
    "with strategy.scope():\n",
    "    model = tf.keras.Sequential([\n",
    "        efn.EfficientNetB3(\n",
    "            input_shape=(512, 512, 3),\n",
    "            weights='imagenet',\n",
    "            include_top=False\n",
    "        ),\n",
    "        L.GlobalAveragePooling2D(),\n",
    "        L.Dense(1, activation='sigmoid')\n",
    "    ])\n",
    "        \n",
    "    opt = tf.optimizers.Adam(learning_rate=0.0000001)\n",
    "    model.compile(\n",
    "        optimizer='adam',\n",
    "        loss = 'binary_crossentropy',\n",
    "        metrics=['accuracy']\n",
    "    )\n",
    "    model.summary()"
   ],
   "metadata": {
    "execution": {
     "iopub.status.busy": "2023-10-22T17:25:48.148732Z",
     "iopub.execute_input": "2023-10-22T17:25:48.149145Z",
     "iopub.status.idle": "2023-10-22T17:26:06.044539Z",
     "shell.execute_reply.started": "2023-10-22T17:25:48.149114Z",
     "shell.execute_reply": "2023-10-22T17:26:06.043100Z"
    },
    "trusted": true
   },
   "execution_count": 31,
   "outputs": [
    {
     "name": "stdout",
     "text": "Model: \"sequential_5\"\n_________________________________________________________________\n Layer (type)                Output Shape              Param #   \n=================================================================\n efficientnet-b3 (Functional  (None, 16, 16, 1536)     10783528  \n )                                                               \n                                                                 \n global_average_pooling2d_5   (None, 1536)             0         \n (GlobalAveragePooling2D)                                        \n                                                                 \n dense_5 (Dense)             (None, 1)                 1537      \n                                                                 \n=================================================================\nTotal params: 10,785,065\nTrainable params: 10,697,769\nNon-trainable params: 87,296\n_________________________________________________________________\n",
     "output_type": "stream"
    }
   ]
  },
  {
   "cell_type": "code",
   "source": [
    "\n",
    "STEPS_PER_EPOCH = train_labels.shape[0] // BATCH_SIZE\n",
    "\n",
    "history = model.fit(\n",
    "    train_dataset, \n",
    "    epochs=5, \n",
    "    callbacks=[early, scheduler],\n",
    "    steps_per_epoch=STEPS_PER_EPOCH,\n",
    "    validation_data=valid_dataset\n",
    ")\n"
   ],
   "metadata": {
    "execution": {
     "iopub.status.busy": "2023-10-22T17:26:06.047167Z",
     "iopub.execute_input": "2023-10-22T17:26:06.047672Z",
     "iopub.status.idle": "2023-10-22T17:37:20.093764Z",
     "shell.execute_reply.started": "2023-10-22T17:26:06.047616Z",
     "shell.execute_reply": "2023-10-22T17:37:20.092327Z"
    },
    "trusted": true
   },
   "execution_count": 32,
   "outputs": [
    {
     "name": "stdout",
     "text": "Epoch 1/5\n",
     "output_type": "stream"
    },
    {
     "name": "stderr",
     "text": "2023-10-22 17:26:47.265853: E tensorflow/core/grappler/optimizers/meta_optimizer.cc:954] model_pruner failed: INVALID_ARGUMENT: Graph does not contain terminal node AssignAddVariableOp.\n2023-10-22 17:26:48.557675: E tensorflow/core/grappler/optimizers/meta_optimizer.cc:954] model_pruner failed: INVALID_ARGUMENT: Graph does not contain terminal node AssignAddVariableOp.\n",
     "output_type": "stream"
    },
    {
     "name": "stdout",
     "text": "126/126 [==============================] - ETA: 0s - loss: 0.6943 - accuracy: 0.5248",
     "output_type": "stream"
    },
    {
     "name": "stderr",
     "text": "2023-10-22 17:30:36.297034: E tensorflow/core/grappler/optimizers/meta_optimizer.cc:954] model_pruner failed: INVALID_ARGUMENT: Graph does not contain terminal node AssignAddVariableOp.\n2023-10-22 17:30:36.618240: E tensorflow/core/grappler/optimizers/meta_optimizer.cc:954] model_pruner failed: INVALID_ARGUMENT: Graph does not contain terminal node AssignAddVariableOp.\n",
     "output_type": "stream"
    },
    {
     "name": "stdout",
     "text": "126/126 [==============================] - 317s 1s/step - loss: 0.6943 - accuracy: 0.5248 - val_loss: 0.7197 - val_accuracy: 0.5333 - lr: 0.0010\nEpoch 2/5\n126/126 [==============================] - 88s 701ms/step - loss: 0.6678 - accuracy: 0.5569 - val_loss: 0.6665 - val_accuracy: 0.5628 - lr: 0.0010\nEpoch 3/5\n126/126 [==============================] - 90s 712ms/step - loss: 0.6586 - accuracy: 0.5723 - val_loss: 0.6650 - val_accuracy: 0.5756 - lr: 0.0010\nEpoch 4/5\n126/126 [==============================] - 89s 706ms/step - loss: 0.6457 - accuracy: 0.5954 - val_loss: 0.6886 - val_accuracy: 0.5606 - lr: 0.0010\nEpoch 5/5\n126/126 [==============================] - ETA: 0s - loss: 0.6379 - accuracy: 0.6076\nEpoch 5: ReduceLROnPlateau reducing learning rate to 0.00010000000474974513.\n126/126 [==============================] - 89s 708ms/step - loss: 0.6379 - accuracy: 0.6076 - val_loss: 0.6899 - val_accuracy: 0.5917 - lr: 0.0010\n",
     "output_type": "stream"
    }
   ]
  },
  {
   "cell_type": "code",
   "execution_count": null,
   "outputs": [],
   "source": [
    "def display_curves(training, validation, title, subplot):\n",
    "    \"\"\"\n",
    "    Source: https://www.kaggle.com/mgornergoogle/getting-started-with-100-flowers-on-tpu\n",
    "    \"\"\"\n",
    "    if subplot%10==1: # set up the subplots on the first call\n",
    "        plt.subplots(figsize=(10,10), facecolor='#F0F0F0')\n",
    "        plt.tight_layout()\n",
    "    ax = plt.subplot(subplot)\n",
    "    ax.set_facecolor('#F8F8F8')\n",
    "    ax.plot(training)\n",
    "    ax.plot(validation)\n",
    "    ax.set_title('model '+ title)\n",
    "    ax.set_ylabel(title)\n",
    "    #ax.set_ylim(0.28,1.05)\n",
    "    ax.set_xlabel('epoch')\n",
    "    ax.legend(['Efficient', 'ResNet'])"
   ],
   "metadata": {
    "collapsed": false
   }
  },
  {
   "cell_type": "code",
   "source": [
    "display_curves(\n",
    "    history.history['loss'], \n",
    "    history.history['val_loss'], \n",
    "    'loss', 211)\n",
    "display_curves(\n",
    "    history.history['accuracy'], \n",
    "    history.history['val_accuracy'], \n",
    "    'accuracy', 212)"
   ],
   "metadata": {
    "execution": {
     "iopub.status.busy": "2023-10-22T17:37:36.233885Z",
     "iopub.execute_input": "2023-10-22T17:37:36.234295Z",
     "iopub.status.idle": "2023-10-22T17:37:36.766090Z",
     "shell.execute_reply.started": "2023-10-22T17:37:36.234264Z",
     "shell.execute_reply": "2023-10-22T17:37:36.765019Z"
    },
    "trusted": true
   },
   "execution_count": 33,
   "outputs": [
    {
     "name": "stderr",
     "text": "/tmp/ipykernel_15/2441444733.py:8: MatplotlibDeprecationWarning: Auto-removal of overlapping axes is deprecated since 3.6 and will be removed two minor releases later; explicitly call ax.remove() as needed.\n  ax = plt.subplot(subplot)\n",
     "output_type": "stream"
    },
    {
     "output_type": "display_data",
     "data": {
      "text/plain": "<Figure size 1000x1000 with 2 Axes>",
      "image/png": "[encoded data removed]"
     },
     "metadata": {}
    }
   ]
  },
  {
   "cell_type": "code",
   "source": [
    "def alaska_weighted_auc(y_true, y_valid):\n",
    "    tpr_thresholds = [0.0, 0.4, 1.0]\n",
    "    weights = [2, 1]\n",
    "    \n",
    "    fpr, tpr, thresholds = metrics.roc_curve(y_true, y_valid, pos_label=1)\n",
    "    \n",
    "    # Size of subsets\n",
    "    areas = np.array(tpr_thresholds[1:]) - np.array(tpr_thresholds[:-1])\n",
    "    \n",
    "    # The total area is normalized by the sum of weights such that the final weighted AUC is between 0 and 1.\n",
    "    normalization = np.dot(areas, weights)\n",
    "    \n",
    "    competition_metric = 0\n",
    "    for idx, weight in enumerate(weights):\n",
    "        y_min = tpr_thresholds[idx]\n",
    "        y_max = tpr_thresholds[idx + 1]\n",
    "        mask = (y_min < tpr) & (tpr < y_max)\n",
    "\n",
    "        x_padding = np.linspace(fpr[mask][-1], 1, 100)\n",
    "\n",
    "        x = np.concatenate([fpr[mask], x_padding])\n",
    "        y = np.concatenate([tpr[mask], [y_max] * len(x_padding)])\n",
    "        # Normalize such that curve starts at y = 0\n",
    "        y = y - y_min \n",
    "        score = metrics.auc(x, y)\n",
    "        submetric = score * weight\n",
    "        best_subscore = (y_max - y_min) * weight\n",
    "        competition_metric += submetric\n",
    "        \n",
    "    return competition_metric / normalization"
   ],
   "metadata": {
    "execution": {
     "iopub.status.busy": "2023-10-22T17:37:43.869588Z",
     "iopub.execute_input": "2023-10-22T17:37:43.870735Z",
     "iopub.status.idle": "2023-10-22T17:37:43.878512Z",
     "shell.execute_reply.started": "2023-10-22T17:37:43.870699Z",
     "shell.execute_reply": "2023-10-22T17:37:43.877460Z"
    },
    "trusted": true
   },
   "execution_count": 34,
   "outputs": []
  },
  {
   "cell_type": "code",
   "source": [
    "model.save(\"/kaggle/working/model3.h5\")"
   ],
   "metadata": {
    "execution": {
     "iopub.status.busy": "2023-10-19T13:40:23.904187Z",
     "iopub.execute_input": "2023-10-19T13:40:23.905175Z",
     "iopub.status.idle": "2023-10-19T13:40:26.546332Z",
     "shell.execute_reply.started": "2023-10-19T13:40:23.905141Z",
     "shell.execute_reply": "2023-10-19T13:40:26.54505Z"
    },
    "trusted": true
   },
   "execution_count": null,
   "outputs": []
  },
  {
   "cell_type": "code",
   "source": [
    "def display_training_curves(training, validation, title, subplot):\n",
    "    \"\"\"\n",
    "    Source: https://www.kaggle.com/mgornergoogle/getting-started-with-100-flowers-on-tpu\n",
    "    \"\"\"\n",
    "    if subplot%10==1: # set up the subplots on the first call\n",
    "        plt.subplots(figsize=(10,10), facecolor='#F0F0F0')\n",
    "        plt.tight_layout()\n",
    "    ax = plt.subplot(subplot)\n",
    "    ax.set_facecolor('#F8F8F8')\n",
    "    ax.plot(training)\n",
    "    ax.plot(validation)\n",
    "    ax.set_title('model '+ title)\n",
    "    ax.set_ylabel(title)\n",
    "    #ax.set_ylim(0.28,1.05)\n",
    "    ax.set_xlabel('epoch')\n",
    "    ax.legend(['train', 'valid.'])"
   ],
   "metadata": {
    "execution": {
     "iopub.status.busy": "2023-10-22T17:06:08.117583Z",
     "iopub.execute_input": "2023-10-22T17:06:08.118739Z",
     "iopub.status.idle": "2023-10-22T17:06:08.124498Z",
     "shell.execute_reply.started": "2023-10-22T17:06:08.118695Z",
     "shell.execute_reply": "2023-10-22T17:06:08.123668Z"
    },
    "trusted": true
   },
   "execution_count": 24,
   "outputs": []
  },
  {
   "cell_type": "code",
   "source": [
    "display_training_curves(\n",
    "    history.history['loss'], \n",
    "    history.history['val_loss'], \n",
    "    'loss', 211)\n",
    "display_training_curves(\n",
    "    history.history['accuracy'], \n",
    "    history.history['val_accuracy'], \n",
    "    'accuracy', 212)"
   ],
   "metadata": {
    "execution": {
     "iopub.status.busy": "2023-10-22T13:39:42.784933Z",
     "iopub.execute_input": "2023-10-22T13:39:42.785277Z",
     "iopub.status.idle": "2023-10-22T13:39:43.391683Z",
     "shell.execute_reply.started": "2023-10-22T13:39:42.785249Z",
     "shell.execute_reply": "2023-10-22T13:39:43.390734Z"
    },
    "trusted": true
   },
   "execution_count": null,
   "outputs": []
  },
  {
   "cell_type": "code",
   "source": [
    "y_pred=model.predict(valid_dataset)"
   ],
   "metadata": {
    "execution": {
     "iopub.status.busy": "2023-10-22T17:37:47.620699Z",
     "iopub.execute_input": "2023-10-22T17:37:47.621121Z",
     "iopub.status.idle": "2023-10-22T17:38:43.050978Z",
     "shell.execute_reply.started": "2023-10-22T17:37:47.621088Z",
     "shell.execute_reply": "2023-10-22T17:38:43.049841Z"
    },
    "trusted": true
   },
   "execution_count": 35,
   "outputs": [
    {
     "name": "stderr",
     "text": "2023-10-22 17:37:51.031440: E tensorflow/core/grappler/optimizers/meta_optimizer.cc:954] model_pruner failed: INVALID_ARGUMENT: Graph does not contain terminal node AssignAddVariableOp.\n2023-10-22 17:37:51.347417: E tensorflow/core/grappler/optimizers/meta_optimizer.cc:954] model_pruner failed: INVALID_ARGUMENT: Graph does not contain terminal node AssignAddVariableOp.\n",
     "output_type": "stream"
    },
    {
     "name": "stdout",
     "text": "15/15 [==============================] - 55s 2s/step\n",
     "output_type": "stream"
    }
   ]
  },
  {
   "cell_type": "code",
   "source": [
    "print(alaska_weighted_auc(valid_labels, y_pred))"
   ],
   "metadata": {
    "execution": {
     "iopub.status.busy": "2023-10-22T17:38:43.053134Z",
     "iopub.execute_input": "2023-10-22T17:38:43.053432Z",
     "iopub.status.idle": "2023-10-22T17:38:43.061591Z",
     "shell.execute_reply.started": "2023-10-22T17:38:43.053406Z",
     "shell.execute_reply": "2023-10-22T17:38:43.060635Z"
    },
    "trusted": true
   },
   "execution_count": 36,
   "outputs": [
    {
     "name": "stdout",
     "text": "0.6978817170588676\n",
     "output_type": "stream"
    }
   ]
  },
  {
   "cell_type": "code",
   "source": [],
   "metadata": {},
   "execution_count": null,
   "outputs": []
  },
  {
   "cell_type": "code",
   "source": [
    "jmipod2 = append_path('JMiPOD')(positives[10000:20000])\n",
    "juniward2 = append_path('JUNIWARD')(positives[20000:30000])\n",
    "uerd2 = append_path('UERD')(positives[30000:40000])\n",
    "\n",
    "positives2 = train_filenames.copy()\n",
    "negatives2 = train_filenames.copy()\n",
    "np.random.shuffle(positives2)\n",
    "np.random.shuffle(negatives2)\n",
    "pos_paths2 = np.concatenate([jmipod2, juniward2, uerd2])\n",
    "\n",
    "neg_paths2 = append_path('Cover')(negatives2[30000:60000])\n",
    "train_paths2 = np.concatenate([pos_paths2, neg_paths2])\n",
    "train_labels2 = np.array([1] * len(pos_paths2) + [0] * len(neg_paths2))\n",
    "train_paths2, test_paths, train_labels2, test_labels = train_test_split(\n",
    "    train_paths2, train_labels2, test_size=0.15, random_state=2020)"
   ],
   "metadata": {
    "execution": {
     "iopub.status.busy": "2023-10-19T13:41:52.140522Z",
     "iopub.execute_input": "2023-10-19T13:41:52.140805Z",
     "iopub.status.idle": "2023-10-19T13:41:52.304087Z",
     "shell.execute_reply.started": "2023-10-19T13:41:52.140772Z",
     "shell.execute_reply": "2023-10-19T13:41:52.302812Z"
    },
    "trusted": true
   },
   "execution_count": null,
   "outputs": []
  },
  {
   "cell_type": "code",
   "source": [
    "test_dataset2 = (\n",
    "    tf.data.Dataset\n",
    "    .from_tensor_slices((test_paths, test_labels))\n",
    "    .map(decode_image, num_parallel_calls=AUTO)\n",
    "    .batch(BATCH_SIZE)\n",
    "    .cache()\n",
    "    .prefetch(AUTO)\n",
    ")"
   ],
   "metadata": {
    "execution": {
     "iopub.status.busy": "2023-10-19T13:41:52.305795Z",
     "iopub.execute_input": "2023-10-19T13:41:52.306087Z",
     "iopub.status.idle": "2023-10-19T13:41:52.334693Z",
     "shell.execute_reply.started": "2023-10-19T13:41:52.306062Z",
     "shell.execute_reply": "2023-10-19T13:41:52.333797Z"
    },
    "trusted": true
   },
   "execution_count": null,
   "outputs": []
  },
  {
   "cell_type": "code",
   "source": [
    "y_pred=model.predict(test_dataset2)"
   ],
   "metadata": {
    "execution": {
     "iopub.status.busy": "2023-10-19T13:41:52.335731Z",
     "iopub.execute_input": "2023-10-19T13:41:52.336038Z",
     "iopub.status.idle": "2023-10-19T13:42:21.614139Z",
     "shell.execute_reply.started": "2023-10-19T13:41:52.336014Z",
     "shell.execute_reply": "2023-10-19T13:42:21.612945Z"
    },
    "trusted": true
   },
   "execution_count": null,
   "outputs": []
  },
  {
   "cell_type": "code",
   "source": [
    "print(alaska_weighted_auc(test_labels, y_pred))"
   ],
   "metadata": {
    "execution": {
     "iopub.status.busy": "2023-10-19T13:42:21.616052Z",
     "iopub.execute_input": "2023-10-19T13:42:21.616388Z",
     "iopub.status.idle": "2023-10-19T13:42:21.626266Z",
     "shell.execute_reply.started": "2023-10-19T13:42:21.616358Z",
     "shell.execute_reply": "2023-10-19T13:42:21.625314Z"
    },
    "trusted": true
   },
   "execution_count": null,
   "outputs": []
  },
  {
   "cell_type": "code",
   "source": [],
   "metadata": {},
   "execution_count": null,
   "outputs": []
  }
 ]
}
