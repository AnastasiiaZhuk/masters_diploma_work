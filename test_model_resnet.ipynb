{
 "metadata": {
  "kernelspec": {
   "language": "python",
   "display_name": "Python 3",
   "name": "python3"
  },
  "language_info": {
   "name": "python",
   "version": "3.8.17",
   "mimetype": "text/x-python",
   "codemirror_mode": {
    "name": "ipython",
    "version": 3
   },
   "pygments_lexer": "ipython3",
   "nbconvert_exporter": "python",
   "file_extension": ".py"
  }
 },
 "nbformat_minor": 4,
 "nbformat": 4,
 "cells": [
  {
   "cell_type": "code",
   "source": [
    "!pip install -q efficientnet"
   ],
   "metadata": {
    "execution": {
     "iopub.status.busy": "2023-10-22T13:00:14.924245Z",
     "iopub.execute_input": "2023-10-22T13:00:14.924475Z",
     "iopub.status.idle": "2023-10-22T13:00:23.890608Z",
     "shell.execute_reply.started": "2023-10-22T13:00:14.924453Z",
     "shell.execute_reply": "2023-10-22T13:00:23.889660Z"
    },
    "trusted": true
   },
   "execution_count": 1,
   "outputs": [
    {
     "name": "stdout",
     "text": "\u001B[33mWARNING: Running pip as the 'root' user can result in broken permissions and conflicting behaviour with the system package manager. It is recommended to use a virtual environment instead: https://pip.pypa.io/warnings/venv\u001B[0m\u001B[33m\n\u001B[0m\n\u001B[1m[\u001B[0m\u001B[34;49mnotice\u001B[0m\u001B[1;39;49m]\u001B[0m\u001B[39;49m A new release of pip is available: \u001B[0m\u001B[31;49m23.0.1\u001B[0m\u001B[39;49m -> \u001B[0m\u001B[32;49m23.3.1\u001B[0m\n\u001B[1m[\u001B[0m\u001B[34;49mnotice\u001B[0m\u001B[1;39;49m]\u001B[0m\u001B[39;49m To update, run: \u001B[0m\u001B[32;49mpip install --upgrade pip\u001B[0m\n",
     "output_type": "stream"
    }
   ]
  },
  {
   "cell_type": "code",
   "source": [
    "import math, re, os\n",
    "\n",
    "import numpy as np\n",
    "import pandas as pd\n",
    "from matplotlib import pyplot as plt\n",
    "from kaggle_datasets import KaggleDatasets\n",
    "import tensorflow as tf\n",
    "import efficientnet.tfkeras as efn\n",
    "import tensorflow.keras.layers as L\n",
    "from tensorflow.keras.applications.resnet50 import ResNet50\n",
    "\n",
    "from sklearn import metrics\n",
    "from sklearn.model_selection import train_test_split\n",
    "import cv2\n",
    "import matplotlib\n",
    "import matplotlib.pyplot as plt\n",
    "%matplotlib inline"
   ],
   "metadata": {
    "execution": {
     "iopub.status.busy": "2023-10-22T13:01:47.589684Z",
     "iopub.execute_input": "2023-10-22T13:01:47.590108Z",
     "iopub.status.idle": "2023-10-22T13:01:47.599478Z",
     "shell.execute_reply.started": "2023-10-22T13:01:47.590077Z",
     "shell.execute_reply": "2023-10-22T13:01:47.598554Z"
    },
    "trusted": true
   },
   "execution_count": 16,
   "outputs": []
  },
  {
   "cell_type": "code",
   "source": [
    "# Detect hardware, return appropriate distribution strategy\n",
    "try:\n",
    "    # TPU detection. No parameters necessary if TPU_NAME environment variable is\n",
    "    # set: this is always the case on Kaggle.\n",
    "    tpu = tf.distribute.cluster_resolver.TPUClusterResolver()\n",
    "    print('Running on TPU ', tpu.master())\n",
    "except ValueError:\n",
    "    tpu = None\n",
    "\n",
    "if tpu:\n",
    "    tf.config.experimental_connect_to_cluster(tpu)\n",
    "    tf.tpu.experimental.initialize_tpu_system(tpu)\n",
    "    strategy = tf.distribute.experimental.TPUStrategy(tpu)\n",
    "else:\n",
    "    # Default distribution strategy in Tensorflow. Works on CPU and single GPU.\n",
    "    strategy = tf.distribute.get_strategy()\n",
    "\n",
    "print(\"REPLICAS: \", strategy.num_replicas_in_sync)"
   ],
   "metadata": {
    "execution": {
     "iopub.status.busy": "2023-10-22T13:01:06.205422Z",
     "iopub.execute_input": "2023-10-22T13:01:06.205919Z",
     "iopub.status.idle": "2023-10-22T13:01:14.435248Z",
     "shell.execute_reply.started": "2023-10-22T13:01:06.205893Z",
     "shell.execute_reply": "2023-10-22T13:01:14.434353Z"
    },
    "trusted": true
   },
   "execution_count": 3,
   "outputs": [
    {
     "name": "stdout",
     "text": "Running on TPU  \nINFO:tensorflow:Deallocate tpu buffers before initializing tpu system.\nINFO:tensorflow:Initializing the TPU system: local\nINFO:tensorflow:Finished initializing TPU system.\n",
     "output_type": "stream"
    },
    {
     "name": "stderr",
     "text": "WARNING:absl:`tf.distribute.experimental.TPUStrategy` is deprecated, please use  the non experimental symbol `tf.distribute.TPUStrategy` instead.\n",
     "output_type": "stream"
    },
    {
     "name": "stdout",
     "text": "INFO:tensorflow:Found TPU system:\n",
     "output_type": "stream"
    },
    {
     "name": "stderr",
     "text": "INFO:tensorflow:Found TPU system:\n",
     "output_type": "stream"
    },
    {
     "name": "stdout",
     "text": "INFO:tensorflow:*** Num TPU Cores: 8\n",
     "output_type": "stream"
    },
    {
     "name": "stderr",
     "text": "INFO:tensorflow:*** Num TPU Cores: 8\n",
     "output_type": "stream"
    },
    {
     "name": "stdout",
     "text": "INFO:tensorflow:*** Num TPU Workers: 1\n",
     "output_type": "stream"
    },
    {
     "name": "stderr",
     "text": "INFO:tensorflow:*** Num TPU Workers: 1\n",
     "output_type": "stream"
    },
    {
     "name": "stdout",
     "text": "INFO:tensorflow:*** Num TPU Cores Per Worker: 8\n",
     "output_type": "stream"
    },
    {
     "name": "stderr",
     "text": "INFO:tensorflow:*** Num TPU Cores Per Worker: 8\n",
     "output_type": "stream"
    },
    {
     "name": "stdout",
     "text": "INFO:tensorflow:*** Available Device: _DeviceAttributes(/job:localhost/replica:0/task:0/device:CPU:0, CPU, 0, 0)\n",
     "output_type": "stream"
    },
    {
     "name": "stderr",
     "text": "INFO:tensorflow:*** Available Device: _DeviceAttributes(/job:localhost/replica:0/task:0/device:CPU:0, CPU, 0, 0)\n",
     "output_type": "stream"
    },
    {
     "name": "stdout",
     "text": "INFO:tensorflow:*** Available Device: _DeviceAttributes(/job:localhost/replica:0/task:0/device:TPU:0, TPU, 0, 0)\n",
     "output_type": "stream"
    },
    {
     "name": "stderr",
     "text": "INFO:tensorflow:*** Available Device: _DeviceAttributes(/job:localhost/replica:0/task:0/device:TPU:0, TPU, 0, 0)\n",
     "output_type": "stream"
    },
    {
     "name": "stdout",
     "text": "INFO:tensorflow:*** Available Device: _DeviceAttributes(/job:localhost/replica:0/task:0/device:TPU:1, TPU, 0, 0)\n",
     "output_type": "stream"
    },
    {
     "name": "stderr",
     "text": "INFO:tensorflow:*** Available Device: _DeviceAttributes(/job:localhost/replica:0/task:0/device:TPU:1, TPU, 0, 0)\n",
     "output_type": "stream"
    },
    {
     "name": "stdout",
     "text": "INFO:tensorflow:*** Available Device: _DeviceAttributes(/job:localhost/replica:0/task:0/device:TPU:2, TPU, 0, 0)\n",
     "output_type": "stream"
    },
    {
     "name": "stderr",
     "text": "INFO:tensorflow:*** Available Device: _DeviceAttributes(/job:localhost/replica:0/task:0/device:TPU:2, TPU, 0, 0)\n",
     "output_type": "stream"
    },
    {
     "name": "stdout",
     "text": "INFO:tensorflow:*** Available Device: _DeviceAttributes(/job:localhost/replica:0/task:0/device:TPU:3, TPU, 0, 0)\n",
     "output_type": "stream"
    },
    {
     "name": "stderr",
     "text": "INFO:tensorflow:*** Available Device: _DeviceAttributes(/job:localhost/replica:0/task:0/device:TPU:3, TPU, 0, 0)\n",
     "output_type": "stream"
    },
    {
     "name": "stdout",
     "text": "INFO:tensorflow:*** Available Device: _DeviceAttributes(/job:localhost/replica:0/task:0/device:TPU:4, TPU, 0, 0)\n",
     "output_type": "stream"
    },
    {
     "name": "stderr",
     "text": "INFO:tensorflow:*** Available Device: _DeviceAttributes(/job:localhost/replica:0/task:0/device:TPU:4, TPU, 0, 0)\n",
     "output_type": "stream"
    },
    {
     "name": "stdout",
     "text": "INFO:tensorflow:*** Available Device: _DeviceAttributes(/job:localhost/replica:0/task:0/device:TPU:5, TPU, 0, 0)\n",
     "output_type": "stream"
    },
    {
     "name": "stderr",
     "text": "INFO:tensorflow:*** Available Device: _DeviceAttributes(/job:localhost/replica:0/task:0/device:TPU:5, TPU, 0, 0)\n",
     "output_type": "stream"
    },
    {
     "name": "stdout",
     "text": "INFO:tensorflow:*** Available Device: _DeviceAttributes(/job:localhost/replica:0/task:0/device:TPU:6, TPU, 0, 0)\n",
     "output_type": "stream"
    },
    {
     "name": "stderr",
     "text": "INFO:tensorflow:*** Available Device: _DeviceAttributes(/job:localhost/replica:0/task:0/device:TPU:6, TPU, 0, 0)\n",
     "output_type": "stream"
    },
    {
     "name": "stdout",
     "text": "INFO:tensorflow:*** Available Device: _DeviceAttributes(/job:localhost/replica:0/task:0/device:TPU:7, TPU, 0, 0)\n",
     "output_type": "stream"
    },
    {
     "name": "stderr",
     "text": "INFO:tensorflow:*** Available Device: _DeviceAttributes(/job:localhost/replica:0/task:0/device:TPU:7, TPU, 0, 0)\n",
     "output_type": "stream"
    },
    {
     "name": "stdout",
     "text": "INFO:tensorflow:*** Available Device: _DeviceAttributes(/job:localhost/replica:0/task:0/device:TPU_SYSTEM:0, TPU_SYSTEM, 0, 0)\n",
     "output_type": "stream"
    },
    {
     "name": "stderr",
     "text": "INFO:tensorflow:*** Available Device: _DeviceAttributes(/job:localhost/replica:0/task:0/device:TPU_SYSTEM:0, TPU_SYSTEM, 0, 0)\n",
     "output_type": "stream"
    },
    {
     "name": "stdout",
     "text": "REPLICAS:  8\n",
     "output_type": "stream"
    }
   ]
  },
  {
   "cell_type": "code",
   "source": [
    "AUTO = tf.data.experimental.AUTOTUNE\n",
    "\n",
    "# Data access\n",
    "GCS_DS_PATH = KaggleDatasets().get_gcs_path()\n",
    "\n",
    "# Configuration\n",
    "EPOCHS = 10\n",
    "BATCH_SIZE = 16 * strategy.num_replicas_in_sync"
   ],
   "metadata": {
    "execution": {
     "iopub.status.busy": "2023-10-22T14:08:50.472680Z",
     "iopub.execute_input": "2023-10-22T14:08:50.473081Z",
     "iopub.status.idle": "2023-10-22T14:08:50.480019Z",
     "shell.execute_reply.started": "2023-10-22T14:08:50.473051Z",
     "shell.execute_reply": "2023-10-22T14:08:50.478795Z"
    },
    "trusted": true
   },
   "execution_count": 95,
   "outputs": [
    {
     "name": "stderr",
     "text": "get_gcs_path is not required on TPU VMs which can directly use Kaggle datasets, using path: /kaggle/input/alaska2-image-steganalysis\n",
     "output_type": "stream"
    }
   ]
  },
  {
   "cell_type": "code",
   "source": [
    "def append_path(pre):\n",
    "    return np.vectorize(lambda file: os.path.join(GCS_DS_PATH, pre, file))"
   ],
   "metadata": {
    "execution": {
     "iopub.status.busy": "2023-10-22T13:01:52.782853Z",
     "iopub.execute_input": "2023-10-22T13:01:52.783220Z",
     "iopub.status.idle": "2023-10-22T13:01:52.788131Z",
     "shell.execute_reply.started": "2023-10-22T13:01:52.783192Z",
     "shell.execute_reply": "2023-10-22T13:01:52.787141Z"
    },
    "trusted": true
   },
   "execution_count": 18,
   "outputs": []
  },
  {
   "cell_type": "code",
   "source": [
    "sub = pd.read_csv('/kaggle/input/alaska2-image-steganalysis/sample_submission.csv')\n",
    "train_filenames = np.array(os.listdir(\"/kaggle/input/alaska2-image-steganalysis/Cover/\"))"
   ],
   "metadata": {
    "execution": {
     "iopub.status.busy": "2023-10-22T13:01:52.983187Z",
     "iopub.execute_input": "2023-10-22T13:01:52.983568Z",
     "iopub.status.idle": "2023-10-22T13:01:53.475875Z",
     "shell.execute_reply.started": "2023-10-22T13:01:52.983538Z",
     "shell.execute_reply": "2023-10-22T13:01:53.474564Z"
    },
    "trusted": true
   },
   "execution_count": 19,
   "outputs": []
  },
  {
   "cell_type": "code",
   "source": [
    "np.random.seed(0)\n",
    "positives = train_filenames.copy()\n",
    "negatives = train_filenames.copy()\n",
    "np.random.shuffle(positives)\n",
    "np.random.shuffle(negatives)\n",
    "parti = 3000\n",
    "jmipod = append_path('JMiPOD')(positives[:parti])\n",
    "juniward = append_path('JUNIWARD')(positives[parti:parti*2])\n",
    "uerd = append_path('UERD')(positives[parti*2:parti*3])\n",
    "\n",
    "pos_paths = np.concatenate([jmipod, juniward, uerd])"
   ],
   "metadata": {
    "execution": {
     "iopub.status.busy": "2023-10-22T14:08:55.127215Z",
     "iopub.execute_input": "2023-10-22T14:08:55.127638Z",
     "iopub.status.idle": "2023-10-22T14:08:55.167946Z",
     "shell.execute_reply.started": "2023-10-22T14:08:55.127607Z",
     "shell.execute_reply": "2023-10-22T14:08:55.166664Z"
    },
    "trusted": true
   },
   "execution_count": 96,
   "outputs": []
  },
  {
   "cell_type": "code",
   "source": [
    "test_paths = append_path('Test')(sub.Id.values)\n",
    "neg_paths = append_path('Cover')(negatives[:parti*3])"
   ],
   "metadata": {
    "execution": {
     "iopub.status.busy": "2023-10-22T14:08:55.310075Z",
     "iopub.execute_input": "2023-10-22T14:08:55.310695Z",
     "iopub.status.idle": "2023-10-22T14:08:55.348575Z",
     "shell.execute_reply.started": "2023-10-22T14:08:55.310648Z",
     "shell.execute_reply": "2023-10-22T14:08:55.347559Z"
    },
    "trusted": true
   },
   "execution_count": 97,
   "outputs": []
  },
  {
   "cell_type": "code",
   "source": [
    "train_paths = np.concatenate([pos_paths, neg_paths])\n",
    "train_labels = np.array([1] * len(pos_paths) + [0] * len(neg_paths))"
   ],
   "metadata": {
    "execution": {
     "iopub.status.busy": "2023-10-22T14:08:55.492102Z",
     "iopub.execute_input": "2023-10-22T14:08:55.492546Z",
     "iopub.status.idle": "2023-10-22T14:08:55.500297Z",
     "shell.execute_reply.started": "2023-10-22T14:08:55.492498Z",
     "shell.execute_reply": "2023-10-22T14:08:55.499226Z"
    },
    "trusted": true
   },
   "execution_count": 98,
   "outputs": []
  },
  {
   "cell_type": "code",
   "source": [
    "train_paths, valid_paths, train_labels, valid_labels = train_test_split(\n",
    "    train_paths, train_labels, test_size=0.1, random_state=2020)"
   ],
   "metadata": {
    "execution": {
     "iopub.status.busy": "2023-10-22T14:08:55.901524Z",
     "iopub.execute_input": "2023-10-22T14:08:55.901954Z",
     "iopub.status.idle": "2023-10-22T14:08:55.909315Z",
     "shell.execute_reply.started": "2023-10-22T14:08:55.901923Z",
     "shell.execute_reply": "2023-10-22T14:08:55.908387Z"
    },
    "trusted": true
   },
   "execution_count": 99,
   "outputs": []
  },
  {
   "cell_type": "code",
   "source": [
    "def decode_image(filename, label=None, image_size=(512, 512)):\n",
    "    bits = tf.io.read_file(filename)\n",
    "    image = tf.image.decode_jpeg(bits, channels=3)\n",
    "    image = tf.cast(image, tf.float32) / 255.0\n",
    "    image = tf.image.resize(image, image_size)\n",
    "    \n",
    "    if label is None:\n",
    "        return image\n",
    "    else:\n",
    "        return image, label\n",
    "\n",
    "def data_augment(image, label=None):\n",
    "    image = tf.image.random_flip_left_right(image)\n",
    "    image = tf.image.random_flip_up_down(image)\n",
    "    \n",
    "    if label is None:\n",
    "        return image\n",
    "    else:\n",
    "        return image, label"
   ],
   "metadata": {
    "execution": {
     "iopub.status.busy": "2023-10-22T14:08:56.426923Z",
     "iopub.execute_input": "2023-10-22T14:08:56.427321Z",
     "iopub.status.idle": "2023-10-22T14:08:56.434484Z",
     "shell.execute_reply.started": "2023-10-22T14:08:56.427291Z",
     "shell.execute_reply": "2023-10-22T14:08:56.433568Z"
    },
    "trusted": true
   },
   "execution_count": 100,
   "outputs": []
  },
  {
   "cell_type": "code",
   "source": [
    "train_dataset = (\n",
    "    tf.data.Dataset\n",
    "    .from_tensor_slices((train_paths, train_labels))\n",
    "    .map(decode_image, num_parallel_calls=AUTO)\n",
    "    .cache()\n",
    "    .repeat()\n",
    "    .shuffle(1024)\n",
    "    .batch(BATCH_SIZE)\n",
    "    .prefetch(AUTO)\n",
    ")\n",
    "\n",
    "valid_dataset = (\n",
    "    tf.data.Dataset\n",
    "    .from_tensor_slices((valid_paths, valid_labels))\n",
    "    .map(decode_image, num_parallel_calls=AUTO)\n",
    "    .batch(BATCH_SIZE)\n",
    "    .cache()\n",
    "    .prefetch(AUTO)\n",
    ")\n",
    "\n",
    "test_dataset = (\n",
    "    tf.data.Dataset\n",
    "    .from_tensor_slices(test_paths)\n",
    "    .map(decode_image, num_parallel_calls=AUTO)\n",
    "    .batch(BATCH_SIZE)\n",
    ")"
   ],
   "metadata": {
    "execution": {
     "iopub.status.busy": "2023-10-22T14:08:57.059183Z",
     "iopub.execute_input": "2023-10-22T14:08:57.060213Z",
     "iopub.status.idle": "2023-10-22T14:08:57.192598Z",
     "shell.execute_reply.started": "2023-10-22T14:08:57.060175Z",
     "shell.execute_reply": "2023-10-22T14:08:57.191573Z"
    },
    "trusted": true
   },
   "execution_count": 101,
   "outputs": []
  },
  {
   "cell_type": "code",
   "source": [
    "early = tf.keras.callbacks.EarlyStopping(monitor='loss', patience=2)"
   ],
   "metadata": {
    "execution": {
     "iopub.status.busy": "2023-10-22T14:08:57.963492Z",
     "iopub.execute_input": "2023-10-22T14:08:57.963904Z",
     "iopub.status.idle": "2023-10-22T14:08:57.968200Z",
     "shell.execute_reply.started": "2023-10-22T14:08:57.963874Z",
     "shell.execute_reply": "2023-10-22T14:08:57.967327Z"
    },
    "trusted": true
   },
   "execution_count": 102,
   "outputs": []
  },
  {
   "cell_type": "code",
   "source": [
    "scheduler = tf.keras.callbacks.ReduceLROnPlateau(\n",
    "    monitor='val_loss',\n",
    "    factor=0.1,\n",
    "    patience=2,\n",
    "    verbose=1,\n",
    "    mode='auto',\n",
    "    min_delta=0.0001,\n",
    "    min_lr=0.0000001\n",
    ")"
   ],
   "metadata": {
    "execution": {
     "iopub.status.busy": "2023-10-22T14:08:58.228815Z",
     "iopub.execute_input": "2023-10-22T14:08:58.229182Z",
     "iopub.status.idle": "2023-10-22T14:08:58.233989Z",
     "shell.execute_reply.started": "2023-10-22T14:08:58.229155Z",
     "shell.execute_reply": "2023-10-22T14:08:58.233089Z"
    },
    "trusted": true
   },
   "execution_count": 103,
   "outputs": []
  },
  {
   "cell_type": "code",
   "source": [
    "def display_curves(training, validation, title, subplot):\n",
    "    \"\"\"\n",
    "    Source: https://www.kaggle.com/mgornergoogle/getting-started-with-100-flowers-on-tpu\n",
    "    \"\"\"\n",
    "    if subplot%10==1: # set up the subplots on the first call\n",
    "        plt.subplots(figsize=(10,10), facecolor='#F0F0F0')\n",
    "        plt.tight_layout()\n",
    "    ax = plt.subplot(subplot)\n",
    "    ax.set_facecolor('#F8F8F8')\n",
    "    ax.plot(training)\n",
    "    ax.plot(validation)\n",
    "    ax.set_title('model '+ title)\n",
    "    ax.set_ylabel(title)\n",
    "    ax.set_xlabel('epoch')\n",
    "    ax.legend(['train', 'valid.'])"
   ],
   "metadata": {
    "execution": {
     "iopub.status.busy": "2023-10-22T13:28:46.088161Z",
     "iopub.execute_input": "2023-10-22T13:28:46.088613Z",
     "iopub.status.idle": "2023-10-22T13:28:46.093310Z",
     "shell.execute_reply.started": "2023-10-22T13:28:46.088581Z",
     "shell.execute_reply": "2023-10-22T13:28:46.092175Z"
    },
    "trusted": true
   },
   "execution_count": 52,
   "outputs": []
  },
  {
   "cell_type": "code",
   "source": [
    "with strategy.scope():\n",
    "    model1 = tf.keras.Sequential([\n",
    "        ResNet50(\n",
    "            input_shape=(512, 512, 3),\n",
    "            weights='imagenet',\n",
    "            include_top=False\n",
    "        ),\n",
    "        L.GlobalAveragePooling2D(),\n",
    "        L.Dense(1, activation='sigmoid')\n",
    "    ])\n",
    "    opt = tf.optimizers.Adam(learning_rate=0.001)\n",
    "    model1.compile(\n",
    "        optimizer=opt,\n",
    "        loss = 'binary_crossentropy',\n",
    "        metrics=['accuracy']\n",
    "    )\n",
    "    model1.summary()"
   ],
   "metadata": {
    "execution": {
     "iopub.status.busy": "2023-10-22T14:31:21.272485Z",
     "iopub.execute_input": "2023-10-22T14:31:21.272840Z",
     "iopub.status.idle": "2023-10-22T14:31:32.907741Z",
     "shell.execute_reply.started": "2023-10-22T14:31:21.272814Z",
     "shell.execute_reply": "2023-10-22T14:31:32.906702Z"
    },
    "trusted": true
   },
   "execution_count": 109,
   "outputs": [
    {
     "name": "stdout",
     "text": "Model: \"sequential_16\"\n_________________________________________________________________\n Layer (type)                Output Shape              Param #   \n=================================================================\n resnet50 (Functional)       (None, 16, 16, 2048)      23587712  \n                                                                 \n global_average_pooling2d_16  (None, 2048)             0         \n  (GlobalAveragePooling2D)                                       \n                                                                 \n dense_16 (Dense)            (None, 1)                 2049      \n                                                                 \n=================================================================\nTotal params: 23,589,761\nTrainable params: 23,536,641\nNon-trainable params: 53,120\n_________________________________________________________________\n",
     "output_type": "stream"
    }
   ]
  },
  {
   "cell_type": "code",
   "source": [
    "\n",
    "STEPS_PER_EPOCH = train_labels.shape[0] // BATCH_SIZE\n",
    "\n",
    "history1 = model1.fit(\n",
    "    train_dataset, \n",
    "    epochs=5, \n",
    "    callbacks=[early, scheduler],\n",
    "    steps_per_epoch=STEPS_PER_EPOCH,\n",
    "    validation_data=valid_dataset\n",
    ")\n"
   ],
   "metadata": {
    "execution": {
     "iopub.status.busy": "2023-10-22T14:31:32.909115Z",
     "iopub.execute_input": "2023-10-22T14:31:32.909379Z",
     "iopub.status.idle": "2023-10-22T14:38:53.270822Z",
     "shell.execute_reply.started": "2023-10-22T14:31:32.909355Z",
     "shell.execute_reply": "2023-10-22T14:38:53.269573Z"
    },
    "trusted": true
   },
   "execution_count": 110,
   "outputs": [
    {
     "name": "stdout",
     "text": "Epoch 1/5\n",
     "output_type": "stream"
    },
    {
     "name": "stderr",
     "text": "2023-10-22 14:31:54.514760: E tensorflow/core/grappler/optimizers/meta_optimizer.cc:954] model_pruner failed: INVALID_ARGUMENT: Graph does not contain terminal node AssignAddVariableOp.\n2023-10-22 14:31:55.222078: E tensorflow/core/grappler/optimizers/meta_optimizer.cc:954] model_pruner failed: INVALID_ARGUMENT: Graph does not contain terminal node AssignAddVariableOp.\n",
     "output_type": "stream"
    },
    {
     "name": "stdout",
     "text": "126/126 [==============================] - ETA: 0s - loss: 0.7211 - accuracy: 0.5034",
     "output_type": "stream"
    },
    {
     "name": "stderr",
     "text": "2023-10-22 14:33:39.236835: E tensorflow/core/grappler/optimizers/meta_optimizer.cc:954] model_pruner failed: INVALID_ARGUMENT: Graph does not contain terminal node AssignAddVariableOp.\n2023-10-22 14:33:39.448224: E tensorflow/core/grappler/optimizers/meta_optimizer.cc:954] model_pruner failed: INVALID_ARGUMENT: Graph does not contain terminal node AssignAddVariableOp.\n",
     "output_type": "stream"
    },
    {
     "name": "stdout",
     "text": "126/126 [==============================] - 149s 727ms/step - loss: 0.7211 - accuracy: 0.5034 - val_loss: 1.1154 - val_accuracy: 0.4806 - lr: 1.0000e-05\nEpoch 2/5\n126/126 [==============================] - 71s 560ms/step - loss: 0.6814 - accuracy: 0.5538 - val_loss: 0.9099 - val_accuracy: 0.4806 - lr: 1.0000e-05\nEpoch 3/5\n126/126 [==============================] - 72s 575ms/step - loss: 0.6532 - accuracy: 0.6068 - val_loss: 0.7185 - val_accuracy: 0.5006 - lr: 1.0000e-05\nEpoch 4/5\n126/126 [==============================] - 70s 559ms/step - loss: 0.6279 - accuracy: 0.6425 - val_loss: 0.7377 - val_accuracy: 0.4783 - lr: 1.0000e-05\nEpoch 5/5\n126/126 [==============================] - ETA: 0s - loss: 0.6064 - accuracy: 0.6748\nEpoch 5: ReduceLROnPlateau reducing learning rate to 9.999999747378752e-07.\n126/126 [==============================] - 77s 610ms/step - loss: 0.6064 - accuracy: 0.6748 - val_loss: 0.7598 - val_accuracy: 0.4806 - lr: 1.0000e-05\n",
     "output_type": "stream"
    }
   ]
  },
  {
   "cell_type": "code",
   "source": [
    "display_curves(\n",
    "    history1.history['loss'], \n",
    "    history1.history['val_loss'], \n",
    "    'loss', 211)\n",
    "display_curves(\n",
    "    history1.history['accuracy'], \n",
    "    history1.history['val_accuracy'], \n",
    "    'accuracy', 212)"
   ],
   "metadata": {
    "execution": {
     "iopub.status.busy": "2023-10-22T14:39:01.089179Z",
     "iopub.execute_input": "2023-10-22T14:39:01.089644Z",
     "iopub.status.idle": "2023-10-22T14:39:01.670339Z",
     "shell.execute_reply.started": "2023-10-22T14:39:01.089609Z",
     "shell.execute_reply": "2023-10-22T14:39:01.669350Z"
    },
    "trusted": true
   },
   "execution_count": 111,
   "outputs": [
    {
     "name": "stderr",
     "text": "/tmp/ipykernel_15/2441444733.py:8: MatplotlibDeprecationWarning: Auto-removal of overlapping axes is deprecated since 3.6 and will be removed two minor releases later; explicitly call ax.remove() as needed.\n  ax = plt.subplot(subplot)\n",
     "output_type": "stream"
    },
    {
     "output_type": "display_data",
     "data": {
      "text/plain": "<Figure size 1000x1000 with 2 Axes>",
      "image/png": "[encoded data removed]"
     },
     "metadata": {}
    }
   ]
  }
 ]
}
