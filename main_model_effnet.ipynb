{
 "metadata": {
  "kernelspec": {
   "language": "python",
   "display_name": "Python 3",
   "name": "python3"
  },
  "language_info": {
   "name": "python",
   "version": "3.8.17",
   "mimetype": "text/x-python",
   "codemirror_mode": {
    "name": "ipython",
    "version": 3
   },
   "pygments_lexer": "ipython3",
   "nbconvert_exporter": "python",
   "file_extension": ".py"
  }
 },
 "nbformat_minor": 4,
 "nbformat": 4,
 "cells": [
  {
   "cell_type": "code",
   "source": [
    "!pip install -q efficientnet"
   ],
   "metadata": {
    "execution": {
     "iopub.status.busy": "2023-10-19T12:45:06.120669Z",
     "iopub.execute_input": "2023-10-19T12:45:06.121036Z",
     "iopub.status.idle": "2023-10-19T12:45:14.029413Z",
     "shell.execute_reply.started": "2023-10-19T12:45:06.121005Z",
     "shell.execute_reply": "2023-10-19T12:45:14.028438Z"
    },
    "trusted": true
   },
   "execution_count": 1,
   "outputs": [
    {
     "name": "stdout",
     "text": "\u001B[33mWARNING: Running pip as the 'root' user can result in broken permissions and conflicting behaviour with the system package manager. It is recommended to use a virtual environment instead: https://pip.pypa.io/warnings/venv\u001B[0m\u001B[33m\n\u001B[0m\n\u001B[1m[\u001B[0m\u001B[34;49mnotice\u001B[0m\u001B[1;39;49m]\u001B[0m\u001B[39;49m A new release of pip is available: \u001B[0m\u001B[31;49m23.0.1\u001B[0m\u001B[39;49m -> \u001B[0m\u001B[32;49m23.3\u001B[0m\n\u001B[1m[\u001B[0m\u001B[34;49mnotice\u001B[0m\u001B[1;39;49m]\u001B[0m\u001B[39;49m To update, run: \u001B[0m\u001B[32;49mpip install --upgrade pip\u001B[0m\n",
     "output_type": "stream"
    }
   ]
  },
  {
   "cell_type": "markdown",
   "source": [
    "# Import libraries"
   ],
   "metadata": {
    "collapsed": false
   }
  },
  {
   "cell_type": "code",
   "source": [
    "import math, re, os\n",
    "\n",
    "import numpy as np\n",
    "import pandas as pd\n",
    "from matplotlib import pyplot as plt\n",
    "from kaggle_datasets import KaggleDatasets\n",
    "import tensorflow as tf\n",
    "import efficientnet.tfkeras as efn\n",
    "import tensorflow.keras.layers as L\n",
    "\n",
    "from sklearn import metrics\n",
    "from sklearn.model_selection import train_test_split\n",
    "import cv2\n",
    "import matplotlib\n",
    "import matplotlib.pyplot as plt\n",
    "%matplotlib inline"
   ],
   "metadata": {
    "execution": {
     "iopub.status.busy": "2023-10-19T12:45:14.031009Z",
     "iopub.execute_input": "2023-10-19T12:45:14.031315Z",
     "iopub.status.idle": "2023-10-19T12:45:56.342677Z",
     "shell.execute_reply.started": "2023-10-19T12:45:14.031286Z",
     "shell.execute_reply": "2023-10-19T12:45:56.341744Z"
    },
    "trusted": true
   },
   "execution_count": 2,
   "outputs": [
    {
     "name": "stderr",
     "text": "D1019 12:45:46.984097865      15 config.cc:119]                        gRPC EXPERIMENT tcp_frame_size_tuning               OFF (default:OFF)\nD1019 12:45:46.984131628      15 config.cc:119]                        gRPC EXPERIMENT tcp_rcv_lowat                       OFF (default:OFF)\nD1019 12:45:46.984135729      15 config.cc:119]                        gRPC EXPERIMENT peer_state_based_framing            OFF (default:OFF)\nD1019 12:45:46.984138903      15 config.cc:119]                        gRPC EXPERIMENT flow_control_fixes                  ON  (default:ON)\nD1019 12:45:46.984141776      15 config.cc:119]                        gRPC EXPERIMENT memory_pressure_controller          OFF (default:OFF)\nD1019 12:45:46.984144869      15 config.cc:119]                        gRPC EXPERIMENT unconstrained_max_quota_buffer_size OFF (default:OFF)\nD1019 12:45:46.984147748      15 config.cc:119]                        gRPC EXPERIMENT new_hpack_huffman_decoder           ON  (default:ON)\nD1019 12:45:46.984152693      15 config.cc:119]                        gRPC EXPERIMENT event_engine_client                 OFF (default:OFF)\nD1019 12:45:46.984155676      15 config.cc:119]                        gRPC EXPERIMENT monitoring_experiment               ON  (default:ON)\nD1019 12:45:46.984158609      15 config.cc:119]                        gRPC EXPERIMENT promise_based_client_call           OFF (default:OFF)\nD1019 12:45:46.984161498      15 config.cc:119]                        gRPC EXPERIMENT free_large_allocator                OFF (default:OFF)\nD1019 12:45:46.984164420      15 config.cc:119]                        gRPC EXPERIMENT promise_based_server_call           OFF (default:OFF)\nD1019 12:45:46.984167205      15 config.cc:119]                        gRPC EXPERIMENT transport_supplies_client_latency   OFF (default:OFF)\nD1019 12:45:46.984169924      15 config.cc:119]                        gRPC EXPERIMENT event_engine_listener               OFF (default:OFF)\nI1019 12:45:46.984398792      15 ev_epoll1_linux.cc:122]               grpc epoll fd: 62\nD1019 12:45:46.994003546      15 ev_posix.cc:144]                      Using polling engine: epoll1\nD1019 12:45:46.994033769      15 dns_resolver_ares.cc:822]             Using ares dns resolver\nD1019 12:45:46.994503633      15 lb_policy_registry.cc:46]             registering LB policy factory for \"priority_experimental\"\nD1019 12:45:46.994517473      15 lb_policy_registry.cc:46]             registering LB policy factory for \"outlier_detection_experimental\"\nD1019 12:45:46.994521469      15 lb_policy_registry.cc:46]             registering LB policy factory for \"weighted_target_experimental\"\nD1019 12:45:46.994525093      15 lb_policy_registry.cc:46]             registering LB policy factory for \"pick_first\"\nD1019 12:45:46.994528525      15 lb_policy_registry.cc:46]             registering LB policy factory for \"round_robin\"\nD1019 12:45:46.994531883      15 lb_policy_registry.cc:46]             registering LB policy factory for \"weighted_round_robin_experimental\"\nD1019 12:45:46.994547254      15 lb_policy_registry.cc:46]             registering LB policy factory for \"ring_hash_experimental\"\nD1019 12:45:46.994569181      15 lb_policy_registry.cc:46]             registering LB policy factory for \"grpclb\"\nD1019 12:45:46.994602553      15 lb_policy_registry.cc:46]             registering LB policy factory for \"rls_experimental\"\nD1019 12:45:46.994620147      15 lb_policy_registry.cc:46]             registering LB policy factory for \"xds_cluster_manager_experimental\"\nD1019 12:45:46.994624011      15 lb_policy_registry.cc:46]             registering LB policy factory for \"xds_cluster_impl_experimental\"\nD1019 12:45:46.994647721      15 lb_policy_registry.cc:46]             registering LB policy factory for \"cds_experimental\"\nD1019 12:45:46.994662709      15 lb_policy_registry.cc:46]             registering LB policy factory for \"xds_cluster_resolver_experimental\"\nD1019 12:45:46.994666993      15 lb_policy_registry.cc:46]             registering LB policy factory for \"xds_override_host_experimental\"\nD1019 12:45:46.994670878      15 lb_policy_registry.cc:46]             registering LB policy factory for \"xds_wrr_locality_experimental\"\nD1019 12:45:46.994675583      15 certificate_provider_registry.cc:35]  registering certificate provider factory for \"file_watcher\"\nI1019 12:45:46.998452380      15 socket_utils_common_posix.cc:408]     Disabling AF_INET6 sockets because ::1 is not available.\nI1019 12:45:47.013373241     312 socket_utils_common_posix.cc:337]     TCP_USER_TIMEOUT is available. TCP_USER_TIMEOUT will be used thereafter\nE1019 12:45:47.020260695     312 oauth2_credentials.cc:236]            oauth_fetch: UNKNOWN:C-ares status is not ARES_SUCCESS qtype=A name=metadata.google.internal. is_balancer=0: Domain name not found {grpc_status:2, created_time:\"2023-10-19T12:45:47.020245837+00:00\"}\n",
     "output_type": "stream"
    }
   ]
  },
  {
   "cell_type": "markdown",
   "source": [
    "# Detect TPU for Kaggle"
   ],
   "metadata": {
    "collapsed": false
   }
  },
  {
   "cell_type": "code",
   "source": [
    "# Detect hardware, return appropriate distribution strategy\n",
    "try:\n",
    "    # TPU detection. No parameters necessary if TPU_NAME environment variable is\n",
    "    # set: this is always the case on Kaggle.\n",
    "    tpu = tf.distribute.cluster_resolver.TPUClusterResolver()\n",
    "    print('Running on TPU ', tpu.master())\n",
    "except ValueError:\n",
    "    tpu = None\n",
    "\n",
    "if tpu:\n",
    "    tf.config.experimental_connect_to_cluster(tpu)\n",
    "    tf.tpu.experimental.initialize_tpu_system(tpu)\n",
    "    strategy = tf.distribute.experimental.TPUStrategy(tpu)\n",
    "else:\n",
    "    # Default distribution strategy in Tensorflow. Works on CPU and single GPU.\n",
    "    strategy = tf.distribute.get_strategy()\n",
    "\n",
    "print(\"REPLICAS: \", strategy.num_replicas_in_sync)"
   ],
   "metadata": {
    "execution": {
     "iopub.status.busy": "2023-10-19T12:45:56.343930Z",
     "iopub.execute_input": "2023-10-19T12:45:56.344483Z",
     "iopub.status.idle": "2023-10-19T12:46:04.222202Z",
     "shell.execute_reply.started": "2023-10-19T12:45:56.344454Z",
     "shell.execute_reply": "2023-10-19T12:46:04.221358Z"
    },
    "trusted": true
   },
   "execution_count": 3,
   "outputs": [
    {
     "name": "stdout",
     "text": "Running on TPU  \nINFO:tensorflow:Deallocate tpu buffers before initializing tpu system.\nINFO:tensorflow:Initializing the TPU system: local\nINFO:tensorflow:Finished initializing TPU system.\n",
     "output_type": "stream"
    },
    {
     "name": "stderr",
     "text": "WARNING:absl:`tf.distribute.experimental.TPUStrategy` is deprecated, please use  the non experimental symbol `tf.distribute.TPUStrategy` instead.\n",
     "output_type": "stream"
    },
    {
     "name": "stdout",
     "text": "INFO:tensorflow:Found TPU system:\n",
     "output_type": "stream"
    },
    {
     "name": "stderr",
     "text": "INFO:tensorflow:Found TPU system:\n",
     "output_type": "stream"
    },
    {
     "name": "stdout",
     "text": "INFO:tensorflow:*** Num TPU Cores: 8\n",
     "output_type": "stream"
    },
    {
     "name": "stderr",
     "text": "INFO:tensorflow:*** Num TPU Cores: 8\n",
     "output_type": "stream"
    },
    {
     "name": "stdout",
     "text": "INFO:tensorflow:*** Num TPU Workers: 1\n",
     "output_type": "stream"
    },
    {
     "name": "stderr",
     "text": "INFO:tensorflow:*** Num TPU Workers: 1\n",
     "output_type": "stream"
    },
    {
     "name": "stdout",
     "text": "INFO:tensorflow:*** Num TPU Cores Per Worker: 8\n",
     "output_type": "stream"
    },
    {
     "name": "stderr",
     "text": "INFO:tensorflow:*** Num TPU Cores Per Worker: 8\n",
     "output_type": "stream"
    },
    {
     "name": "stdout",
     "text": "INFO:tensorflow:*** Available Device: _DeviceAttributes(/job:localhost/replica:0/task:0/device:CPU:0, CPU, 0, 0)\n",
     "output_type": "stream"
    },
    {
     "name": "stderr",
     "text": "INFO:tensorflow:*** Available Device: _DeviceAttributes(/job:localhost/replica:0/task:0/device:CPU:0, CPU, 0, 0)\n",
     "output_type": "stream"
    },
    {
     "name": "stdout",
     "text": "INFO:tensorflow:*** Available Device: _DeviceAttributes(/job:localhost/replica:0/task:0/device:TPU:0, TPU, 0, 0)\n",
     "output_type": "stream"
    },
    {
     "name": "stderr",
     "text": "INFO:tensorflow:*** Available Device: _DeviceAttributes(/job:localhost/replica:0/task:0/device:TPU:0, TPU, 0, 0)\n",
     "output_type": "stream"
    },
    {
     "name": "stdout",
     "text": "INFO:tensorflow:*** Available Device: _DeviceAttributes(/job:localhost/replica:0/task:0/device:TPU:1, TPU, 0, 0)\n",
     "output_type": "stream"
    },
    {
     "name": "stderr",
     "text": "INFO:tensorflow:*** Available Device: _DeviceAttributes(/job:localhost/replica:0/task:0/device:TPU:1, TPU, 0, 0)\n",
     "output_type": "stream"
    },
    {
     "name": "stdout",
     "text": "INFO:tensorflow:*** Available Device: _DeviceAttributes(/job:localhost/replica:0/task:0/device:TPU:2, TPU, 0, 0)\n",
     "output_type": "stream"
    },
    {
     "name": "stderr",
     "text": "INFO:tensorflow:*** Available Device: _DeviceAttributes(/job:localhost/replica:0/task:0/device:TPU:2, TPU, 0, 0)\n",
     "output_type": "stream"
    },
    {
     "name": "stdout",
     "text": "INFO:tensorflow:*** Available Device: _DeviceAttributes(/job:localhost/replica:0/task:0/device:TPU:3, TPU, 0, 0)\n",
     "output_type": "stream"
    },
    {
     "name": "stderr",
     "text": "INFO:tensorflow:*** Available Device: _DeviceAttributes(/job:localhost/replica:0/task:0/device:TPU:3, TPU, 0, 0)\n",
     "output_type": "stream"
    },
    {
     "name": "stdout",
     "text": "INFO:tensorflow:*** Available Device: _DeviceAttributes(/job:localhost/replica:0/task:0/device:TPU:4, TPU, 0, 0)\n",
     "output_type": "stream"
    },
    {
     "name": "stderr",
     "text": "INFO:tensorflow:*** Available Device: _DeviceAttributes(/job:localhost/replica:0/task:0/device:TPU:4, TPU, 0, 0)\n",
     "output_type": "stream"
    },
    {
     "name": "stdout",
     "text": "INFO:tensorflow:*** Available Device: _DeviceAttributes(/job:localhost/replica:0/task:0/device:TPU:5, TPU, 0, 0)\n",
     "output_type": "stream"
    },
    {
     "name": "stderr",
     "text": "INFO:tensorflow:*** Available Device: _DeviceAttributes(/job:localhost/replica:0/task:0/device:TPU:5, TPU, 0, 0)\n",
     "output_type": "stream"
    },
    {
     "name": "stdout",
     "text": "INFO:tensorflow:*** Available Device: _DeviceAttributes(/job:localhost/replica:0/task:0/device:TPU:6, TPU, 0, 0)\n",
     "output_type": "stream"
    },
    {
     "name": "stderr",
     "text": "INFO:tensorflow:*** Available Device: _DeviceAttributes(/job:localhost/replica:0/task:0/device:TPU:6, TPU, 0, 0)\n",
     "output_type": "stream"
    },
    {
     "name": "stdout",
     "text": "INFO:tensorflow:*** Available Device: _DeviceAttributes(/job:localhost/replica:0/task:0/device:TPU:7, TPU, 0, 0)\n",
     "output_type": "stream"
    },
    {
     "name": "stderr",
     "text": "INFO:tensorflow:*** Available Device: _DeviceAttributes(/job:localhost/replica:0/task:0/device:TPU:7, TPU, 0, 0)\n",
     "output_type": "stream"
    },
    {
     "name": "stdout",
     "text": "INFO:tensorflow:*** Available Device: _DeviceAttributes(/job:localhost/replica:0/task:0/device:TPU_SYSTEM:0, TPU_SYSTEM, 0, 0)\n",
     "output_type": "stream"
    },
    {
     "name": "stderr",
     "text": "INFO:tensorflow:*** Available Device: _DeviceAttributes(/job:localhost/replica:0/task:0/device:TPU_SYSTEM:0, TPU_SYSTEM, 0, 0)\n",
     "output_type": "stream"
    },
    {
     "name": "stdout",
     "text": "REPLICAS:  8\n",
     "output_type": "stream"
    }
   ]
  },
  {
   "cell_type": "code",
   "source": [
    "AUTO = tf.data.experimental.AUTOTUNE\n",
    "\n",
    "# Data access\n",
    "GCS_DS_PATH = KaggleDatasets().get_gcs_path()\n",
    "\n",
    "# Configuration\n",
    "EPOCHS = 10\n",
    "BATCH_SIZE = 16 * strategy.num_replicas_in_sync"
   ],
   "metadata": {
    "execution": {
     "iopub.status.busy": "2023-10-19T12:46:04.223962Z",
     "iopub.execute_input": "2023-10-19T12:46:04.224240Z",
     "iopub.status.idle": "2023-10-19T12:46:04.229093Z",
     "shell.execute_reply.started": "2023-10-19T12:46:04.224215Z",
     "shell.execute_reply": "2023-10-19T12:46:04.228344Z"
    },
    "trusted": true
   },
   "execution_count": 4,
   "outputs": [
    {
     "name": "stderr",
     "text": "get_gcs_path is not required on TPU VMs which can directly use Kaggle datasets, using path: /kaggle/input/alaska2-image-steganalysis\n",
     "output_type": "stream"
    }
   ]
  },
  {
   "cell_type": "code",
   "source": [
    "def create_path(pre):\n",
    "    return np.vectorize(lambda file: os.path.join(GCS_DS_PATH, pre, file))"
   ],
   "metadata": {
    "execution": {
     "iopub.status.busy": "2023-10-19T12:46:04.229955Z",
     "iopub.execute_input": "2023-10-19T12:46:04.230206Z",
     "iopub.status.idle": "2023-10-19T12:46:04.242107Z",
     "shell.execute_reply.started": "2023-10-19T12:46:04.230184Z",
     "shell.execute_reply": "2023-10-19T12:46:04.241392Z"
    },
    "trusted": true
   },
   "execution_count": 5,
   "outputs": []
  },
  {
   "cell_type": "code",
   "source": [
    "submission = pd.read_csv('/kaggle/input/alaska2-image-steganalysis/sample_submission.csv')\n",
    "train_filenames = np.array(os.listdir(\"/kaggle/input/alaska2-image-steganalysis/Cover/\"))\n",
    "np.random.seed(0)"
   ],
   "metadata": {
    "execution": {
     "iopub.status.busy": "2023-10-19T12:46:04.242900Z",
     "iopub.execute_input": "2023-10-19T12:46:04.243145Z",
     "iopub.status.idle": "2023-10-19T12:46:05.299003Z",
     "shell.execute_reply.started": "2023-10-19T12:46:04.243123Z",
     "shell.execute_reply": "2023-10-19T12:46:05.298102Z"
    },
    "trusted": true
   },
   "execution_count": 6,
   "outputs": []
  },
  {
   "cell_type": "code",
   "source": [
    "one_part = train_filenames.copy()\n",
    "two_part = train_filenames.copy()\n",
    "np.random.shuffle(one_part)\n",
    "np.random.shuffle(two_part)\n",
    "\n",
    "jmipod = create_path('JMiPOD')(one_part[:10000])\n",
    "juniward = create_path('JUNIWARD')(one_part[10000:20000])\n",
    "uerd = create_path('UERD')(one_part[20000:30000])\n",
    "\n",
    "pos_paths = np.concatenate([jmipod, juniward, uerd])"
   ],
   "metadata": {
    "execution": {
     "iopub.status.busy": "2023-10-19T12:46:05.299959Z",
     "iopub.execute_input": "2023-10-19T12:46:05.300235Z",
     "iopub.status.idle": "2023-10-19T12:46:05.388188Z",
     "shell.execute_reply.started": "2023-10-19T12:46:05.300212Z",
     "shell.execute_reply": "2023-10-19T12:46:05.387374Z"
    },
    "trusted": true
   },
   "execution_count": 7,
   "outputs": []
  },
  {
   "cell_type": "code",
   "source": [
    "test_paths = create_path('Test')(submission.Id.values)\n",
    "cover_paths = create_path('Cover')(two_part[:30000])"
   ],
   "metadata": {
    "execution": {
     "iopub.status.busy": "2023-10-19T12:46:05.389068Z",
     "iopub.execute_input": "2023-10-19T12:46:05.389315Z",
     "iopub.status.idle": "2023-10-19T12:46:05.470963Z",
     "shell.execute_reply.started": "2023-10-19T12:46:05.389293Z",
     "shell.execute_reply": "2023-10-19T12:46:05.470186Z"
    },
    "trusted": true
   },
   "execution_count": 8,
   "outputs": []
  },
  {
   "cell_type": "code",
   "source": [
    "train_paths = np.concatenate([pos_paths, cover_paths])\n",
    "train_labels = np.array([1] * len(pos_paths) + [0] * len(cover_paths))"
   ],
   "metadata": {
    "execution": {
     "iopub.status.busy": "2023-10-19T12:46:05.471808Z",
     "iopub.execute_input": "2023-10-19T12:46:05.472048Z",
     "iopub.status.idle": "2023-10-19T12:46:05.491178Z",
     "shell.execute_reply.started": "2023-10-19T12:46:05.472026Z",
     "shell.execute_reply": "2023-10-19T12:46:05.490432Z"
    },
    "trusted": true
   },
   "execution_count": 9,
   "outputs": []
  },
  {
   "cell_type": "markdown",
   "source": [
    "# Split on train val"
   ],
   "metadata": {
    "collapsed": false
   }
  },
  {
   "cell_type": "code",
   "source": [
    "train_paths, valid_paths, train_labels, valid_labels = train_test_split(\n",
    "    train_paths, train_labels, test_size=0.15, random_state=2020)"
   ],
   "metadata": {
    "execution": {
     "iopub.status.busy": "2023-10-19T12:46:05.493459Z",
     "iopub.execute_input": "2023-10-19T12:46:05.493740Z",
     "iopub.status.idle": "2023-10-19T12:46:05.518140Z",
     "shell.execute_reply.started": "2023-10-19T12:46:05.493718Z",
     "shell.execute_reply": "2023-10-19T12:46:05.517291Z"
    },
    "trusted": true
   },
   "execution_count": 10,
   "outputs": []
  },
  {
   "cell_type": "markdown",
   "source": [
    "# Decode images for input"
   ],
   "metadata": {
    "collapsed": false
   }
  },
  {
   "cell_type": "code",
   "source": [
    "def decode_image(filename, label=None, image_size=(512, 512)):\n",
    "    bits = tf.io.read_file(filename)\n",
    "    image = tf.image.decode_jpeg(bits, channels=3)\n",
    "    image = tf.cast(image, tf.float32) / 255.0\n",
    "    image = tf.image.resize(image, image_size)\n",
    "    \n",
    "    if label is None:\n",
    "        return image\n",
    "    else:\n",
    "        return image, label\n",
    "\n",
    "def data_augment(image, label=None):\n",
    "    image = tf.image.random_flip_left_right(image)\n",
    "    image = tf.image.random_flip_up_down(image)\n",
    "    \n",
    "    if label is None:\n",
    "        return image\n",
    "    else:\n",
    "        return image, label"
   ],
   "metadata": {
    "execution": {
     "iopub.status.busy": "2023-10-19T12:46:05.519069Z",
     "iopub.execute_input": "2023-10-19T12:46:05.519351Z",
     "iopub.status.idle": "2023-10-19T12:46:05.524582Z",
     "shell.execute_reply.started": "2023-10-19T12:46:05.519329Z",
     "shell.execute_reply": "2023-10-19T12:46:05.523899Z"
    },
    "trusted": true
   },
   "execution_count": 11,
   "outputs": []
  },
  {
   "cell_type": "markdown",
   "source": [
    "# Data loaders"
   ],
   "metadata": {
    "collapsed": false
   }
  },
  {
   "cell_type": "code",
   "source": [
    "train_dataset = (\n",
    "    tf.data.Dataset\n",
    "    .from_tensor_slices((train_paths, train_labels))\n",
    "    .map(decode_image, num_parallel_calls=AUTO)\n",
    "    .cache()\n",
    "    .repeat()\n",
    "    .shuffle(1024)\n",
    "    .batch(BATCH_SIZE)\n",
    "    .prefetch(AUTO)\n",
    ")\n",
    "\n",
    "valid_dataset = (\n",
    "    tf.data.Dataset\n",
    "    .from_tensor_slices((valid_paths, valid_labels))\n",
    "    .map(decode_image, num_parallel_calls=AUTO)\n",
    "    .batch(BATCH_SIZE)\n",
    "    .cache()\n",
    "    .prefetch(AUTO)\n",
    ")\n",
    "\n",
    "test_dataset = (\n",
    "    tf.data.Dataset\n",
    "    .from_tensor_slices(test_paths)\n",
    "    .map(decode_image, num_parallel_calls=AUTO)\n",
    "    .batch(BATCH_SIZE)\n",
    ")"
   ],
   "metadata": {
    "execution": {
     "iopub.status.busy": "2023-10-19T12:46:05.525467Z",
     "iopub.execute_input": "2023-10-19T12:46:05.525714Z",
     "iopub.status.idle": "2023-10-19T12:46:05.671918Z",
     "shell.execute_reply.started": "2023-10-19T12:46:05.525691Z",
     "shell.execute_reply": "2023-10-19T12:46:05.671092Z"
    },
    "trusted": true
   },
   "execution_count": 12,
   "outputs": []
  },
  {
   "cell_type": "markdown",
   "source": [
    "# Callbacks"
   ],
   "metadata": {
    "collapsed": false
   }
  },
  {
   "cell_type": "code",
   "source": [
    "early = tf.keras.callbacks.EarlyStopping(monitor='loss', patience=2)"
   ],
   "metadata": {
    "execution": {
     "iopub.status.busy": "2023-10-19T12:46:05.672870Z",
     "iopub.execute_input": "2023-10-19T12:46:05.673202Z",
     "iopub.status.idle": "2023-10-19T12:46:05.676887Z",
     "shell.execute_reply.started": "2023-10-19T12:46:05.673178Z",
     "shell.execute_reply": "2023-10-19T12:46:05.676089Z"
    },
    "trusted": true
   },
   "execution_count": 13,
   "outputs": []
  },
  {
   "cell_type": "code",
   "source": [
    "scheduler = tf.keras.callbacks.ReduceLROnPlateau(\n",
    "    monitor='val_loss',\n",
    "    factor=0.1,\n",
    "    patience=2,\n",
    "    verbose=1,\n",
    "    mode='auto',\n",
    "    min_delta=0.0001,\n",
    "    min_lr=0.000001\n",
    ")"
   ],
   "metadata": {
    "execution": {
     "iopub.status.busy": "2023-10-19T12:46:05.677824Z",
     "iopub.execute_input": "2023-10-19T12:46:05.678060Z",
     "iopub.status.idle": "2023-10-19T12:46:05.688695Z",
     "shell.execute_reply.started": "2023-10-19T12:46:05.678039Z",
     "shell.execute_reply": "2023-10-19T12:46:05.688010Z"
    },
    "trusted": true
   },
   "execution_count": 14,
   "outputs": []
  },
  {
   "cell_type": "code",
   "source": [
    "with strategy.scope():\n",
    "    model = tf.keras.Sequential([\n",
    "        efn.EfficientNetB3(\n",
    "            input_shape=(512, 512, 3),\n",
    "            weights='imagenet',\n",
    "            include_top=False\n",
    "        ),\n",
    "        L.GlobalAveragePooling2D(),\n",
    "        L.Dense(1, activation='sigmoid')\n",
    "    ])\n",
    "    opt = tf.keras.optimizers.Adam(learning_rate=0.001)\n",
    "    model.compile(\n",
    "        optimizer=opt,\n",
    "        loss = 'binary_crossentropy',\n",
    "        metrics=['accuracy']\n",
    "    )\n",
    "    model.summary()"
   ],
   "metadata": {
    "execution": {
     "iopub.status.busy": "2023-10-19T12:46:05.689523Z",
     "iopub.execute_input": "2023-10-19T12:46:05.689765Z",
     "iopub.status.idle": "2023-10-19T12:46:43.129617Z",
     "shell.execute_reply.started": "2023-10-19T12:46:05.689744Z",
     "shell.execute_reply": "2023-10-19T12:46:43.128394Z"
    },
    "trusted": true
   },
   "execution_count": 15,
   "outputs": [
    {
     "name": "stdout",
     "text": "Downloading data from https://github.com/Callidior/keras-applications/releases/download/efficientnet/efficientnet-b3_weights_tf_dim_ordering_tf_kernels_autoaugment_notop.h5\n44107200/44107200 [==============================] - 0s 0us/step\nModel: \"sequential\"\n_________________________________________________________________\n Layer (type)                Output Shape              Param #   \n=================================================================\n efficientnet-b3 (Functional  (None, 16, 16, 1536)     10783528  \n )                                                               \n                                                                 \n global_average_pooling2d (G  (None, 1536)             0         \n lobalAveragePooling2D)                                          \n                                                                 \n dense (Dense)               (None, 1)                 1537      \n                                                                 \n=================================================================\nTotal params: 10,785,065\nTrainable params: 10,697,769\nNon-trainable params: 87,296\n_________________________________________________________________\n",
     "output_type": "stream"
    }
   ]
  },
  {
   "cell_type": "code",
   "source": [
    "STEPS_PER_EPOCH = train_labels.shape[0] // BATCH_SIZE\n",
    "\n",
    "history = model.fit(\n",
    "    train_dataset, \n",
    "    epochs=EPOCHS, \n",
    "    callbacks=[early, scheduler],\n",
    "    steps_per_epoch=STEPS_PER_EPOCH,\n",
    "    validation_data=valid_dataset\n",
    ")\n"
   ],
   "metadata": {
    "execution": {
     "iopub.status.busy": "2023-10-19T12:46:43.130965Z",
     "iopub.execute_input": "2023-10-19T12:46:43.131281Z",
     "iopub.status.idle": "2023-10-19T13:40:16.923427Z",
     "shell.execute_reply.started": "2023-10-19T12:46:43.131254Z",
     "shell.execute_reply": "2023-10-19T13:40:16.922064Z"
    },
    "trusted": true
   },
   "execution_count": 16,
   "outputs": [
    {
     "name": "stdout",
     "text": "Epoch 1/10\n",
     "output_type": "stream"
    },
    {
     "name": "stderr",
     "text": "2023-10-19 12:47:22.493597: E tensorflow/core/grappler/optimizers/meta_optimizer.cc:954] model_pruner failed: INVALID_ARGUMENT: Graph does not contain terminal node AssignAddVariableOp.\n2023-10-19 12:47:23.766997: E tensorflow/core/grappler/optimizers/meta_optimizer.cc:954] model_pruner failed: INVALID_ARGUMENT: Graph does not contain terminal node AssignAddVariableOp.\n",
     "output_type": "stream"
    },
    {
     "name": "stdout",
     "text": "398/398 [==============================] - ETA: 0s - loss: 0.6767 - accuracy: 0.5475",
     "output_type": "stream"
    },
    {
     "name": "stderr",
     "text": "2023-10-19 12:54:38.888797: E tensorflow/core/grappler/optimizers/meta_optimizer.cc:954] model_pruner failed: INVALID_ARGUMENT: Graph does not contain terminal node AssignAddVariableOp.\n2023-10-19 12:54:39.192937: E tensorflow/core/grappler/optimizers/meta_optimizer.cc:954] model_pruner failed: INVALID_ARGUMENT: Graph does not contain terminal node AssignAddVariableOp.\n",
     "output_type": "stream"
    },
    {
     "name": "stdout",
     "text": "398/398 [==============================] - 548s 914ms/step - loss: 0.6767 - accuracy: 0.5475 - val_loss: 0.6611 - val_accuracy: 0.5632 - lr: 0.0010\nEpoch 2/10\n398/398 [==============================] - 296s 744ms/step - loss: 0.6482 - accuracy: 0.5844 - val_loss: 0.6448 - val_accuracy: 0.5863 - lr: 0.0010\nEpoch 3/10\n398/398 [==============================] - 298s 749ms/step - loss: 0.6328 - accuracy: 0.6029 - val_loss: 0.6667 - val_accuracy: 0.5512 - lr: 0.0010\nEpoch 4/10\n398/398 [==============================] - 295s 742ms/step - loss: 0.6196 - accuracy: 0.6186 - val_loss: 0.6252 - val_accuracy: 0.6137 - lr: 0.0010\nEpoch 5/10\n398/398 [==============================] - 295s 741ms/step - loss: 0.6098 - accuracy: 0.6286 - val_loss: 0.6209 - val_accuracy: 0.6093 - lr: 0.0010\nEpoch 6/10\n398/398 [==============================] - 297s 745ms/step - loss: 0.6028 - accuracy: 0.6362 - val_loss: 0.6210 - val_accuracy: 0.6207 - lr: 0.0010\nEpoch 7/10\n398/398 [==============================] - ETA: 0s - loss: 0.5953 - accuracy: 0.6444\nEpoch 7: ReduceLROnPlateau reducing learning rate to 0.00010000000474974513.\n398/398 [==============================] - 297s 747ms/step - loss: 0.5953 - accuracy: 0.6444 - val_loss: 0.6254 - val_accuracy: 0.6183 - lr: 0.0010\nEpoch 8/10\n398/398 [==============================] - 294s 740ms/step - loss: 0.5727 - accuracy: 0.6663 - val_loss: 0.6144 - val_accuracy: 0.6337 - lr: 1.0000e-04\nEpoch 9/10\n398/398 [==============================] - 298s 749ms/step - loss: 0.5660 - accuracy: 0.6712 - val_loss: 0.6146 - val_accuracy: 0.6357 - lr: 1.0000e-04\nEpoch 10/10\n398/398 [==============================] - ETA: 0s - loss: 0.5596 - accuracy: 0.6771\nEpoch 10: ReduceLROnPlateau reducing learning rate to 1.0000000474974514e-05.\n398/398 [==============================] - 294s 739ms/step - loss: 0.5596 - accuracy: 0.6771 - val_loss: 0.6247 - val_accuracy: 0.6350 - lr: 1.0000e-04\n",
     "output_type": "stream"
    }
   ]
  },
  {
   "cell_type": "code",
   "source": [
    "def weighted_auc(y_true, y_valid):\n",
    "    \"\"\" Computation of weighted auc for given task \"\"\"\n",
    "    tpr_thresholds = [0.0, 0.4, 1.0]\n",
    "    weights = [2, 1]\n",
    "    \n",
    "    fpr, tpr, thresholds = metrics.roc_curve(y_true, y_valid, pos_label=1)\n",
    "\n",
    "    areas = np.array(tpr_thresholds[1:]) - np.array(tpr_thresholds[:-1])\n",
    "    normalization = np.dot(areas, weights)\n",
    "    \n",
    "    competition_metric = 0\n",
    "    for idx, weight in enumerate(weights):\n",
    "        y_min = tpr_thresholds[idx]\n",
    "        y_max = tpr_thresholds[idx + 1]\n",
    "        mask = (y_min < tpr) & (tpr < y_max)\n",
    "\n",
    "        x_padding = np.linspace(fpr[mask][-1], 1, 100)\n",
    "\n",
    "        x = np.concatenate([fpr[mask], x_padding])\n",
    "        y = np.concatenate([tpr[mask], [y_max] * len(x_padding)])\n",
    "        y = y - y_min \n",
    "        score = metrics.auc(x, y)\n",
    "        submetric = score * weight\n",
    "        best_subscore = (y_max - y_min) * weight\n",
    "        competition_metric += submetric\n",
    "        \n",
    "    return competition_metric / normalization"
   ],
   "metadata": {
    "execution": {
     "iopub.status.busy": "2023-10-19T13:40:16.926536Z",
     "iopub.execute_input": "2023-10-19T13:40:16.926882Z",
     "iopub.status.idle": "2023-10-19T13:40:16.936671Z",
     "shell.execute_reply.started": "2023-10-19T13:40:16.926853Z",
     "shell.execute_reply": "2023-10-19T13:40:16.935836Z"
    },
    "trusted": true
   },
   "execution_count": 17,
   "outputs": []
  },
  {
   "cell_type": "code",
   "source": [
    "model.save(\"/kaggle/working/model3.h5\")"
   ],
   "metadata": {
    "execution": {
     "iopub.status.busy": "2023-10-19T13:40:23.904187Z",
     "iopub.execute_input": "2023-10-19T13:40:23.905175Z",
     "iopub.status.idle": "2023-10-19T13:40:26.546332Z",
     "shell.execute_reply.started": "2023-10-19T13:40:23.905141Z",
     "shell.execute_reply": "2023-10-19T13:40:26.545050Z"
    },
    "trusted": true
   },
   "execution_count": 19,
   "outputs": []
  },
  {
   "cell_type": "code",
   "source": [
    "def display_training_curves(training, validation, title, subplot):\n",
    "    if subplot%10==1:\n",
    "        plt.subplots(figsize=(10,10), facecolor='#F0F0F0')\n",
    "        plt.tight_layout()\n",
    "    ax = plt.subplot(subplot)\n",
    "    ax.set_facecolor('#F8F8F8')\n",
    "    ax.plot(training)\n",
    "    ax.plot(validation)\n",
    "\n",
    "    ax.set_ylabel(title)\n",
    "    ax.set_xlabel('epoch')\n",
    "    ax.set_title('model '+ title)\n",
    "    ax.legend(['train', 'valid.'])"
   ],
   "metadata": {
    "execution": {
     "iopub.status.busy": "2023-10-19T13:40:34.932302Z",
     "iopub.execute_input": "2023-10-19T13:40:34.933327Z",
     "iopub.status.idle": "2023-10-19T13:40:34.939424Z",
     "shell.execute_reply.started": "2023-10-19T13:40:34.933291Z",
     "shell.execute_reply": "2023-10-19T13:40:34.938366Z"
    },
    "trusted": true
   },
   "execution_count": 20,
   "outputs": []
  },
  {
   "cell_type": "code",
   "source": [
    "display_training_curves(\n",
    "    history.history['loss'], \n",
    "    history.history['val_loss'], \n",
    "    'loss', 211)\n",
    "display_training_curves(\n",
    "    history.history['accuracy'], \n",
    "    history.history['val_accuracy'], \n",
    "    'accuracy', 212)"
   ],
   "metadata": {
    "execution": {
     "iopub.status.busy": "2023-10-19T13:40:35.116695Z",
     "iopub.execute_input": "2023-10-19T13:40:35.117550Z",
     "iopub.status.idle": "2023-10-19T13:40:35.749629Z",
     "shell.execute_reply.started": "2023-10-19T13:40:35.117517Z",
     "shell.execute_reply": "2023-10-19T13:40:35.748603Z"
    },
    "trusted": true
   },
   "execution_count": 21,
   "outputs": [
    {
     "name": "stderr",
     "text": "/tmp/ipykernel_15/2441444733.py:8: MatplotlibDeprecationWarning: Auto-removal of overlapping axes is deprecated since 3.6 and will be removed two minor releases later; explicitly call ax.remove() as needed.\n  ax = plt.subplot(subplot)\n",
     "output_type": "stream"
    },
    {
     "output_type": "display_data",
     "data": {
      "text/plain": "<Figure size 1000x1000 with 2 Axes>",
      "image/png": "[encoded data removed]"
     },
     "metadata": {}
    }
   ]
  },
  {
   "cell_type": "code",
   "source": [
    "y_pred=model.predict(valid_dataset)"
   ],
   "metadata": {
    "execution": {
     "iopub.status.busy": "2023-10-19T13:40:35.751184Z",
     "iopub.execute_input": "2023-10-19T13:40:35.751442Z",
     "iopub.status.idle": "2023-10-19T13:41:52.127166Z",
     "shell.execute_reply.started": "2023-10-19T13:40:35.751419Z",
     "shell.execute_reply": "2023-10-19T13:41:52.126036Z"
    },
    "trusted": true
   },
   "execution_count": 22,
   "outputs": [
    {
     "name": "stderr",
     "text": "2023-10-19 13:40:40.077864: E tensorflow/core/grappler/optimizers/meta_optimizer.cc:954] model_pruner failed: INVALID_ARGUMENT: Graph does not contain terminal node AssignAddVariableOp.\n2023-10-19 13:40:40.392307: E tensorflow/core/grappler/optimizers/meta_optimizer.cc:954] model_pruner failed: INVALID_ARGUMENT: Graph does not contain terminal node AssignAddVariableOp.\n",
     "output_type": "stream"
    },
    {
     "name": "stdout",
     "text": "71/71 [==============================] - 76s 618ms/step\n",
     "output_type": "stream"
    }
   ]
  },
  {
   "cell_type": "code",
   "source": [
    "print(weighted_auc(valid_labels, y_pred))"
   ],
   "metadata": {
    "execution": {
     "iopub.status.busy": "2023-10-19T13:41:52.129232Z",
     "iopub.execute_input": "2023-10-19T13:41:52.129550Z",
     "iopub.status.idle": "2023-10-19T13:41:52.139432Z",
     "shell.execute_reply.started": "2023-10-19T13:41:52.129522Z",
     "shell.execute_reply": "2023-10-19T13:41:52.138446Z"
    },
    "trusted": true
   },
   "execution_count": 23,
   "outputs": [
    {
     "name": "stdout",
     "text": "0.7666515273164443\n",
     "output_type": "stream"
    }
   ]
  },
  {
   "cell_type": "markdown",
   "source": [
    "# Prepare test dataset"
   ],
   "metadata": {
    "collapsed": false
   }
  },
  {
   "cell_type": "code",
   "source": [
    "jmipod2 = create_path('JMiPOD')(one_part[10000:20000])\n",
    "juniward2 = create_path('JUNIWARD')(one_part[20000:30000])\n",
    "uerd2 = create_path('UERD')(one_part[30000:40000])\n",
    "\n",
    "positives2 = train_filenames.copy()\n",
    "negatives2 = train_filenames.copy()\n",
    "np.random.shuffle(positives2)\n",
    "np.random.shuffle(negatives2)\n",
    "pos_paths2 = np.concatenate([jmipod2, juniward2, uerd2])\n",
    "\n",
    "neg_paths2 = create_path('Cover')(negatives2[30000:60000])\n",
    "train_paths2 = np.concatenate([pos_paths2, neg_paths2])\n",
    "train_labels2 = np.array([1] * len(pos_paths2) + [0] * len(neg_paths2))\n",
    "train_paths2, test_paths, train_labels2, test_labels = train_test_split(\n",
    "    train_paths2, train_labels2, test_size=0.15, random_state=2020)"
   ],
   "metadata": {
    "execution": {
     "iopub.status.busy": "2023-10-19T13:41:52.140522Z",
     "iopub.execute_input": "2023-10-19T13:41:52.140805Z",
     "iopub.status.idle": "2023-10-19T13:41:52.304087Z",
     "shell.execute_reply.started": "2023-10-19T13:41:52.140772Z",
     "shell.execute_reply": "2023-10-19T13:41:52.302812Z"
    },
    "trusted": true
   },
   "execution_count": 24,
   "outputs": []
  },
  {
   "cell_type": "code",
   "source": [
    "test_dataset2 = (\n",
    "    tf.data.Dataset\n",
    "    .from_tensor_slices((test_paths, test_labels))\n",
    "    .map(decode_image, num_parallel_calls=AUTO)\n",
    "    .batch(BATCH_SIZE)\n",
    "    .cache()\n",
    "    .prefetch(AUTO)\n",
    ")"
   ],
   "metadata": {
    "execution": {
     "iopub.status.busy": "2023-10-19T13:41:52.305795Z",
     "iopub.execute_input": "2023-10-19T13:41:52.306087Z",
     "iopub.status.idle": "2023-10-19T13:41:52.334693Z",
     "shell.execute_reply.started": "2023-10-19T13:41:52.306062Z",
     "shell.execute_reply": "2023-10-19T13:41:52.333797Z"
    },
    "trusted": true
   },
   "execution_count": 25,
   "outputs": []
  },
  {
   "cell_type": "code",
   "source": [
    "y_pred=model.predict(test_dataset2)"
   ],
   "metadata": {
    "execution": {
     "iopub.status.busy": "2023-10-19T13:41:52.335731Z",
     "iopub.execute_input": "2023-10-19T13:41:52.336038Z",
     "iopub.status.idle": "2023-10-19T13:42:21.614139Z",
     "shell.execute_reply.started": "2023-10-19T13:41:52.336014Z",
     "shell.execute_reply": "2023-10-19T13:42:21.612945Z"
    },
    "trusted": true
   },
   "execution_count": 26,
   "outputs": [
    {
     "name": "stdout",
     "text": "71/71 [==============================] - 29s 391ms/step\n",
     "output_type": "stream"
    }
   ]
  },
  {
   "cell_type": "code",
   "source": [
    "print(weighted_auc(test_labels, y_pred))"
   ],
   "metadata": {
    "execution": {
     "iopub.status.busy": "2023-10-19T13:42:21.616052Z",
     "iopub.execute_input": "2023-10-19T13:42:21.616388Z",
     "iopub.status.idle": "2023-10-19T13:42:21.626266Z",
     "shell.execute_reply.started": "2023-10-19T13:42:21.616358Z",
     "shell.execute_reply": "2023-10-19T13:42:21.625314Z"
    },
    "trusted": true
   },
   "execution_count": 27,
   "outputs": [
    {
     "name": "stdout",
     "text": "0.7869264273438181\n",
     "output_type": "stream"
    }
   ]
  }
 ]
}
